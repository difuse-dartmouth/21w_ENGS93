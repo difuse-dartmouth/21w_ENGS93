{
 "cells": [
  {
   "attachments": {},
   "cell_type": "markdown",
   "metadata": {},
   "source": [
    "# RX2: \n",
    "\n",
    "The  human  body comes  in  various  shapes, sizes,  and  temperatures.  For  this  project,  two data sets are used which contain various measurements of human bodies.\n",
    "\n",
    "The  *normtemp*  data  setcontains  measurements  of  normal  body  temperature  for 130  healthy adults in the variable temperature. The variable gender records the gender of the subject, and hr the heart rate in beats per minute.\n",
    "\n",
    "The *fat* data set contains many measurements of human bodies that can be done with a tape measure (circumference measurements), for instance the variable ```wrist``` contains measurements of wrist size in centimeters. Additionally, the variable ```body.fat``` contains body fat measurements.\n",
    "\n",
    "Download the data sets from Canvas and issue the commands as below to read them into R. Don’t forget to set the appropriate working directory using ```setwd``` command before trying to read the datasets. After reading the data sets, you can view the variable names using ```summary(normtemp)``` and ```summary(fat)```. Attach them both so that the variable names are visible from the command line."
   ]
  },
  {
   "cell_type": "code",
   "execution_count": null,
   "metadata": {
    "solution2": "hidden",
    "solution2_first": true,
    "vscode": {
     "languageId": "r"
    }
   },
   "outputs": [],
   "source": []
  },
  {
   "cell_type": "code",
   "execution_count": null,
   "metadata": {
    "solution2": "hidden",
    "vscode": {
     "languageId": "r"
    }
   },
   "outputs": [],
   "source": [
    "normtemp <- read.delim(\"https://raw.githubusercontent.com/difuse-dartmouth/engineering-statistics-in-R/main/completed_module/data/normtemp.txt\", header = TRUE, sep = \"\\t\", dec = \".\")\n",
    "fat <- read.delim(\"https://raw.githubusercontent.com/difuse-dartmouth/engineering-statistics-in-R/main/completed_module/data/fat.txt\", header = TRUE, sep = \"\\t\", dec = \".\")\n",
    "summary(normtemp)\n",
    "summary(fat)\n",
    "attach(normtemp)\n",
    "attach(fat)"
   ]
  },
  {
   "attachments": {},
   "cell_type": "markdown",
   "metadata": {},
   "source": [
    "# Hypothesis Testing\n",
    "\n",
    "What is normal body temperature? Common wisdom is that it is 98.6°F. The temperature variable in the normtemp data set may be used to test this assumption using a test of significance.\n",
    "\n",
    "We will test the null hypothesis that the distribution of normal body temperatures is normal with mean μ= 98.6 and unspecified variance, against the alternate hypothesis that the mean is not equal to 98.6. That is \n",
    "\n",
    "H0: μ= 98.6,                    H1: μ ≠ 98.6.\n",
    "\n",
    "If we assume the data to be normally distributed, we can use the z-score as a test statistic:"
   ]
  },
  {
   "attachments": {
    "Zscore.JPG": {
     "image/jpeg": "[encoded data removed]"
    }
   },
   "cell_type": "markdown",
   "metadata": {},
   "source": [
    "![Zscore.JPG](attachment:Zscore.JPG)"
   ]
  },
  {
   "attachments": {},
   "cell_type": "markdown",
   "metadata": {},
   "source": [
    "<span class=\"girk\">**EXERCISE 1:**</span>\n",
    "\n",
    "An assumption for using the z-statistic is that the data be normally distributed, or n be  large  enough.  In  this  case,  n  is  quite  large,  but  nonetheless,  verify  graphically  that  the  data appear  to  come  from  a normal  distribution. \n",
    "\n",
    "Do  this  by  plotting a histogram  and overlaying  the density function of an appropriate normal distribution. Also use the function ```qqnorm( )``` which will compare the empirical quantiles of the data set with those expected from a normal distribution. If the  points  fall  along  a line  (you can  use  ```qqline( )```  to  add  such  a  line),  then  the  distribution  is approximately normal. Does the distribution look normal?"
   ]
  },
  {
   "cell_type": "code",
   "execution_count": null,
   "metadata": {
    "vscode": {
     "languageId": "r"
    }
   },
   "outputs": [],
   "source": []
  },
  {
   "attachments": {},
   "cell_type": "markdown",
   "metadata": {
    "solution2": "hidden",
    "solution2_first": true
   },
   "source": []
  },
  {
   "cell_type": "code",
   "execution_count": null,
   "metadata": {
    "solution2": "hidden",
    "vscode": {
     "languageId": "r"
    }
   },
   "outputs": [],
   "source": [
    "hist(temperature,prob=T)\n",
    "xbar.temp=mean(temperature)\n",
    "s.temp=sd(temperature)\n",
    "x.temp=seq(from=96, to=101, by=0.1)\n",
    "y.temp=dnorm(x.temp,mean=xbar.temp,sd=s.temp)\n",
    "lines(y.temp~x.temp)\n",
    "\n",
    "qqnorm(temperature)\n",
    "qqline(temperature)\n",
    "\n",
    "#Based on the histogram and also from the qq plot, \n",
    "#the distribution seems to be close to normal, but not very close."
   ]
  },
  {
   "attachments": {},
   "cell_type": "markdown",
   "metadata": {},
   "source": [
    "<span class=\"girk\">**EXERCISE 2:**</span>\n",
    "\n",
    "Calculate the z-score for the measured mean body temperature and determine the p-value to test the null hypothesis given above. You can obtain a p-value from a z-score in R using the function ```pnorm(z)``` or ```1-pnorm(z)```. Do you reject or fail to reject the null hypothesis?"
   ]
  },
  {
   "cell_type": "code",
   "execution_count": null,
   "metadata": {
    "vscode": {
     "languageId": "r"
    }
   },
   "outputs": [],
   "source": []
  },
  {
   "attachments": {},
   "cell_type": "markdown",
   "metadata": {
    "solution2": "hidden",
    "solution2_first": true
   },
   "source": []
  },
  {
   "cell_type": "code",
   "execution_count": null,
   "metadata": {
    "solution2": "hidden",
    "vscode": {
     "languageId": "r"
    }
   },
   "outputs": [],
   "source": [
    "mu.temp=98.6\n",
    "z.temp=(xbar.temp-mu.temp)/(s.temp/sqrt(length(temperature)))\n",
    "pval=pnorm(z.temp)*2\n",
    "\n",
    "pval\n",
    "\n",
    "#The pval = 4.902157e-08 is very low. Much lower than 1%.\n",
    "#So we can reject the null hypothesis at 5%, 1%, 0.1% etc. significance levels."
   ]
  },
  {
   "attachments": {},
   "cell_type": "markdown",
   "metadata": {},
   "source": [
    "<span class=\"girk\">**EXERCISE 3:**</span>\n",
    "\n",
    "Alternatively,  one  can  find  the  critical  value(s)  for  this  problem  for  a  specified significance level α. For this problem, the critical values correspond to having (α/2)*100% of the area to the left of the lower critical value and (α/2)*100% to the right of the upper critical value. That  is,  for  a  5%  significance  level,  the  critical  values  are  the  0.025  and  0.975  quantiles  of  the normal distribution. Find the lower and upper critical values for the hypothesis test described above with α = 5% using the function qnorm(). Comparing the sample mean with the critical values, what conclusion can you draw? Is the observed mean within these bounds?"
   ]
  },
  {
   "cell_type": "code",
   "execution_count": null,
   "metadata": {
    "vscode": {
     "languageId": "r"
    }
   },
   "outputs": [],
   "source": []
  },
  {
   "attachments": {},
   "cell_type": "markdown",
   "metadata": {
    "solution2": "hidden",
    "solution2_first": true
   },
   "source": []
  },
  {
   "cell_type": "code",
   "execution_count": null,
   "metadata": {
    "solution2": "hidden",
    "vscode": {
     "languageId": "r"
    }
   },
   "outputs": [],
   "source": [
    "low.crit=mu.temp+qnorm(0.025)*(s.temp/sqrt(length(temperature)))\n",
    "high.crit=mu.temp+qnorm(0.975)*(s.temp/sqrt(length(temperature)))\n",
    "\n",
    "#low.crit=98.47397 and high.crit=98.72603.\n",
    "#But xbar.temp=98.24923 is significantly below low.crit.\n",
    "#So we reject the null hypothesis at 5% significance level."
   ]
  },
  {
   "attachments": {},
   "cell_type": "markdown",
   "metadata": {},
   "source": [
    "<span class=\"girk\">**EXERCISE 4:**</span>\n",
    "\n",
    "For this type of hypothesis test, there exists a function in R to do all of the work for you. It is called t.test(  ) (recall that you can use a t-test even for large sample sizes, for the t-distribution converges on the normal distribution when n is large). To use the function t.test( ), one must specify the data (temperature) as the first argument, the null hypothesis (mu=98.6) as another argument, and the alternate hypothesis (alt=\"two.sided\") as a third argument. The function returns the observed value of t, the degrees of freedom, the p-value and more. How do the results of t.test() compare to the results you obtained “manually” in question 2 above? Do they match? Why or why not?\n"
   ]
  },
  {
   "cell_type": "code",
   "execution_count": null,
   "metadata": {
    "vscode": {
     "languageId": "r"
    }
   },
   "outputs": [],
   "source": []
  },
  {
   "attachments": {},
   "cell_type": "markdown",
   "metadata": {
    "solution2": "hidden",
    "solution2_first": true
   },
   "source": []
  },
  {
   "cell_type": "code",
   "execution_count": null,
   "metadata": {
    "solution2": "hidden",
    "vscode": {
     "languageId": "r"
    }
   },
   "outputs": [],
   "source": [
    "t.test(temperature, mu = 98.6, alt = \"two.sided\")\n",
    "\n",
    "#They do not match precisely. We get a p value of 2.411e-07 while we got 4.902157e-08 earlier, which is much lower.\n",
    "#Note that these values are extremely close to each other.\n",
    "#The p value for the t test is higher than that of the z test, \n",
    "#which is as expected due to the fatter tail of the t distribution compared to z distribution."
   ]
  },
  {
   "attachments": {},
   "cell_type": "markdown",
   "metadata": {
    "solution": "hidden"
   },
   "source": [
    "---\n",
    "\n",
    "Note that the alternate hypothesis may be specified three ways to the t.testfunction: \n",
    "\n",
    "H1 :μ < $μ_O$ is specified with alt=\"less\"\n",
    "\n",
    "H1 : μ > $μ_O$ is specified with alt=\"greater\"\n",
    "\n",
    "H1 : μ ≠ $μ_O$ is specified with alt=\"two.sided\"."
   ]
  },
  {
   "attachments": {},
   "cell_type": "markdown",
   "metadata": {},
   "source": [
    "---\n",
    "\n",
    "# Afterword\n",
    "\n",
    "## Paired data\n",
    "\n",
    "If you view a summary of the fatdata using ```summary(fat)```, you will  see that the hip and chest measurement  are  very  similar  to  one  another. Can  we  conclude  that  they  are significantly different? Let’s see...\n",
    "\n",
    "Use  the  function ```t.test()``` to  determine  whether  the  population  means  of hip and chest measurements  are  significantly  different from  one  another. ```t.test()``` also reports  a  confidence interval. For this case, what is the meaning of the reported confidence interval?  What happens if you reverse the order of the variables in the function call?\n",
    "\n",
    "Would  you  expect  the  hip  and  chest  sizes  of  people  to  be  correlated  across  the  population? Create  a  bivariate  scatterplot  of  these  two variables  to  find  out.  Does  there  appear  to  be  a relationship? Are they negatively or positively correlated? A positive  correlation  between  two  variables  can  reduce  the width  of  the confidence  interval about their difference when the data are appropriately paired. It will also lead to a more powerful hypothesis test. Perform  a  one-sample  t-test  on  the  difference  between hip and chestmeasurements. (This corresponds to “pairing” the data by person.) What is the confidence interval now? Can you now conclude that hip and chest measurements are significantly different from one another? Which do you think is the right way to analyze the data? "
   ]
  },
  {
   "cell_type": "code",
   "execution_count": null,
   "metadata": {
    "vscode": {
     "languageId": "r"
    }
   },
   "outputs": [],
   "source": []
  },
  {
   "attachments": {},
   "cell_type": "markdown",
   "metadata": {},
   "source": []
  },
  {
   "attachments": {},
   "cell_type": "markdown",
   "metadata": {},
   "source": [
    "\n",
    "## Testing population proportions \n",
    "\n",
    "We may also be interested in testing hypotheses concerning population proportions. To do this, we can use the ```prop.test()``` function in R. Read about ```prop.test( )``` in the Help menu by typing ```?prop.test``` . "
   ]
  },
  {
   "cell_type": "code",
   "execution_count": null,
   "metadata": {
    "vscode": {
     "languageId": "r"
    }
   },
   "outputs": [],
   "source": []
  },
  {
   "attachments": {},
   "cell_type": "markdown",
   "metadata": {},
   "source": []
  }
 ],
 "metadata": {
  "kernelspec": {
   "display_name": "R",
   "language": "R",
   "name": "ir"
  },
  "language_info": {
   "codemirror_mode": "r",
   "file_extension": ".r",
   "mimetype": "text/x-r-source",
   "name": "R",
   "pygments_lexer": "r",
   "version": "3.6.1"
  },
  "toc": {
   "base_numbering": 1,
   "nav_menu": {},
   "number_sections": true,
   "sideBar": true,
   "skip_h1_title": false,
   "title_cell": "Table of Contents",
   "title_sidebar": "Contents",
   "toc_cell": false,
   "toc_position": {},
   "toc_section_display": true,
   "toc_window_display": false
  }
 },
 "nbformat": 4,
 "nbformat_minor": 5
}
