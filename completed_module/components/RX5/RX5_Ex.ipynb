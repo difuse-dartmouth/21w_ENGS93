{
 "cells": [
  {
   "attachments": {},
   "cell_type": "markdown",
   "metadata": {},
   "source": [
    "# RX5\n",
    "\n",
    "The production of maple syrup, known as “sugaring”, takes place just as winter is losing its grip. The maple producers, or “sugarmakers” look for weather that alternates between freezing and thawing; this is what makes the sap flow. In Vermont, sugaring weather usually starts around the beginning of March and normally lasts for about six weeks. Before the sugarmakers can produce syrup, they must tap their trees and this happens during January and February. Snow may lay deep in the woods at the start of sugaring, but the warm sun on the branches of the maple trees causes the long dormancy of winter to give way and the sugaring season to begin.\n",
    "\n",
    "![](https://i.imgur.com/PVMZmFB.gif)\n",
    "\n",
    "## Fertilizer and Sap Production\n",
    "\n",
    "There is some controversy over whether fertilizer application can boost sap production in maple trees. It is known that vigorous trees tend to produce more sap, and trees with more foliage tend to have sweeter sap. However, it is not clear whether fertilizer application can help, and if so, by how much.\n",
    "\n",
    "The Vermont Maple Sugar Producers sponsored a testing program to determine the benefit of fertilizer application. A random sample of 27 maple trees in Vermont was chosen and treated with one of three levels of fertilizer. In this experimental setup, nine trees were treated in the summer with each fertilizer level and the amount of sap produced (in ml) by each tree the following spring was measured.\n",
    "\n",
    "## Importing Data into R\n",
    "\n",
    "The text file containing all the data is located in the git repository. \n",
    "\n",
    "<span class=\"girk\">**EXERCISE 1:**</span> Use the following read.delim() command and its arguments to save the data into an R object \"maple\". \n",
    "\n",
    "read.delim(\"https://raw.githubusercontent.com/difuse-dartmouth/engineering-statistics-in-R/main/completed_module/data/maple.txt\", header = TRUE, sep = \"\\t\", dec = \".\")\n",
    "\n",
    "Type summary(maple) to see what your dataset includes. Then type attach(maple) to associate the column headers with the data.\n"
   ]
  },
  {
   "cell_type": "code",
   "execution_count": null,
   "metadata": {
    "solution2": "hidden",
    "solution2_first": true,
    "vscode": {
     "languageId": "r"
    }
   },
   "outputs": [],
   "source": []
  },
  {
   "cell_type": "code",
   "execution_count": null,
   "metadata": {
    "solution2": "hidden",
    "vscode": {
     "languageId": "r"
    }
   },
   "outputs": [],
   "source": [
    "maple <-read.delim(\"https://raw.githubusercontent.com/difuse-dartmouth/engineering-statistics-in-R/main/completed_module/data/maple.txt\", header = TRUE, sep = \"\\t\", dec = \".\")\n",
    "summary(maple)\n",
    "attach(maple)"
   ]
  },
  {
   "attachments": {},
   "cell_type": "markdown",
   "metadata": {},
   "source": [
    "## Exploratory Data Analysis:\n",
    "\n",
    "<span class=\"girk\">**EXERCISE 2:**</span> Start by plotting a boxplot of sap production (SAP) by fertilizer level (FERT). Does it appear that there is a difference in sap production by fertilizer level? Which produces the most and which the least amount of sap?"
   ]
  },
  {
   "cell_type": "code",
   "execution_count": null,
   "metadata": {
    "solution2": "hidden",
    "solution2_first": true,
    "vscode": {
     "languageId": "r"
    }
   },
   "outputs": [],
   "source": []
  },
  {
   "cell_type": "code",
   "execution_count": null,
   "metadata": {
    "solution2": "hidden",
    "vscode": {
     "languageId": "r"
    }
   },
   "outputs": [],
   "source": [
    "boxplot(SAP~FERT)\n",
    "#Looking at the boxplot, there does appear to be a difference \n",
    "#in the SAP production by fertilizer level.\n",
    "#The most amount of SAP seems to be produced by medium level of fertilizer\n",
    "#and the least amount of SAP seems to be produced by the low amount of fertilizer"
   ]
  },
  {
   "attachments": {},
   "cell_type": "markdown",
   "metadata": {},
   "source": [
    "By default, R orders the levels of a categorical variable, such as FERT alphabetically. If you want to specify the ordering, you can use the function ordered(), as in:\n",
    "```\n",
    "maple$FERT=ordered(maple$FERT, levels=c(\"Low\", \"Med\", \"High\"))\n",
    "```\n",
    "\n",
    "<span class=\"girk\">**EXERCISE 3:**</span> Use ordered(), attach maple again and redo your boxplot to see that the ordering of the levels of FERT has changed."
   ]
  },
  {
   "cell_type": "code",
   "execution_count": null,
   "metadata": {
    "solution2": "hidden",
    "solution2_first": true,
    "vscode": {
     "languageId": "r"
    }
   },
   "outputs": [],
   "source": []
  },
  {
   "cell_type": "code",
   "execution_count": null,
   "metadata": {
    "solution2": "hidden",
    "vscode": {
     "languageId": "r"
    }
   },
   "outputs": [],
   "source": [
    "maple$FERT=ordered(maple$FERT, levels=c(\"Low\", \"Med\", \"High\"))\n",
    "attach(maple)\n",
    "boxplot(SAP~FERT)"
   ]
  },
  {
   "attachments": {},
   "cell_type": "markdown",
   "metadata": {},
   "source": [
    "<span class=\"girk\">**EXERCISE 4:**</span> Calculate the mean sap production for each fertilizer application level. These are the treatment means. You can do this using the indexing notation in R. For example:\n",
    "```\n",
    "mean(SAP[FERT==\"Low\"])\n",
    "```\n",
    "\n",
    "There is also a function in R called tapply() that can be used to calculate the mean (or any other function) of values X that have the same value of another INDEX variable. Try:\n",
    "\n",
    "```\n",
    "tapply(X=SAP, INDEX=FERT, FUN=mean)\n",
    "```"
   ]
  },
  {
   "cell_type": "code",
   "execution_count": null,
   "metadata": {
    "solution2": "hidden",
    "solution2_first": true,
    "vscode": {
     "languageId": "r"
    }
   },
   "outputs": [],
   "source": []
  },
  {
   "cell_type": "code",
   "execution_count": null,
   "metadata": {
    "solution2": "hidden",
    "vscode": {
     "languageId": "r"
    }
   },
   "outputs": [],
   "source": [
    "mean(SAP[FERT==\"Low\"]) #=79.37778\n",
    "tapply(X=SAP, INDEX=FERT, FUN=mean) #Low=79.37778 Med=92.80000 High=86.27778"
   ]
  },
  {
   "attachments": {},
   "cell_type": "markdown",
   "metadata": {},
   "source": [
    "<span class=\"girk\">**EXERCISE 5:**</span> Calculate an estimate of the variance of the three treatment means. Multiply this variance by 9, write down the result, and save it as VARMEAN."
   ]
  },
  {
   "cell_type": "code",
   "execution_count": null,
   "metadata": {
    "solution2": "hidden",
    "solution2_first": true,
    "vscode": {
     "languageId": "r"
    }
   },
   "outputs": [],
   "source": []
  },
  {
   "cell_type": "code",
   "execution_count": null,
   "metadata": {
    "solution2": "hidden",
    "vscode": {
     "languageId": "r"
    }
   },
   "outputs": [],
   "source": [
    "VARMEAN=9*var(tapply(X=SAP, INDEX=FERT, FUN=mean))\n",
    "VARMEAN\n",
    "#VARMEAN = 405.4581"
   ]
  },
  {
   "attachments": {},
   "cell_type": "markdown",
   "metadata": {},
   "source": [
    "**EXERCISE 6:** If you subtract the grand mean from the three means returned by tapply(), you will have estimates of what are called treatment effects in ANOVA. Do this and save the result as a vector TEFFECTS."
   ]
  },
  {
   "cell_type": "code",
   "execution_count": null,
   "metadata": {
    "solution2": "hidden",
    "solution2_first": true,
    "vscode": {
     "languageId": "r"
    }
   },
   "outputs": [],
   "source": []
  },
  {
   "cell_type": "code",
   "execution_count": null,
   "metadata": {
    "solution2": "hidden",
    "vscode": {
     "languageId": "r"
    }
   },
   "outputs": [],
   "source": [
    "TEFFECTS=tapply(X=SAP, INDEX=FERT, FUN=mean)-mean(SAP)\n",
    "TEFFECTS\n",
    "#Low=-6.7740741  Med=6.6481481  High=0.1259259"
   ]
  },
  {
   "attachments": {},
   "cell_type": "markdown",
   "metadata": {},
   "source": [
    "<span class=\"girk\">**EXERCISE 7:**</span> Use tapply() to calculate the variance of sap production for each fertilizer level. Which is the most variable? Can you see this in your boxplot? Calculate the mean of these three variances, write down the result and save it as MEANVAR."
   ]
  },
  {
   "cell_type": "code",
   "execution_count": null,
   "metadata": {
    "solution2": "hidden",
    "solution2_first": true,
    "vscode": {
     "languageId": "r"
    }
   },
   "outputs": [],
   "source": []
  },
  {
   "cell_type": "code",
   "execution_count": null,
   "metadata": {
    "solution2": "hidden",
    "vscode": {
     "languageId": "r"
    }
   },
   "outputs": [],
   "source": [
    "tapply(X=SAP, INDEX=FERT, FUN=var)\n",
    "#Low=24.27944 Med=13.59750 High=17.00444 \n",
    "#Low is the most variable. This can also be observed from the box plots\n",
    "#because Low is the only treatment that has any outliers. In fact it has 2 outliers\n",
    "#and both are far away from median or mean.\n",
    " \n",
    "MEANVAR=mean(tapply(X=SAP, INDEX=FERT, FUN=var))\n",
    "MEANVAR\n",
    "#MEANVAR = 18.2938"
   ]
  }
 ],
 "metadata": {
  "kernelspec": {
   "display_name": "R",
   "language": "R",
   "name": "ir"
  },
  "language_info": {
   "codemirror_mode": "r",
   "file_extension": ".r",
   "mimetype": "text/x-r-source",
   "name": "R",
   "pygments_lexer": "r",
   "version": "4.0.3"
  },
  "toc": {
   "base_numbering": 1,
   "nav_menu": {},
   "number_sections": true,
   "sideBar": true,
   "skip_h1_title": false,
   "title_cell": "Table of Contents",
   "title_sidebar": "Contents",
   "toc_cell": false,
   "toc_position": {},
   "toc_section_display": true,
   "toc_window_display": false
  }
 },
 "nbformat": 4,
 "nbformat_minor": 4
}
