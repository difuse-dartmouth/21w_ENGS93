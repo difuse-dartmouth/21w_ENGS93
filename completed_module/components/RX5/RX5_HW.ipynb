{
 "cells": [
  {
   "attachments": {},
   "cell_type": "markdown",
   "metadata": {},
   "source": [
    "# ENGS93: Statistical Methods in Engineering \n",
    "## Homework 8\n",
    "\n",
    "---\n",
    "\n",
    "**IMPORTANT:**\n",
    "Your answers in R should be put in the input box below the question. Make sure to *File->Save and Checkpoint* your notebook in order to save your code answers as you go. Once you are finished, save your R notebook and submit it to Canvas.\n",
    "\n",
    "Note: Each sub-question is worth 5 points. In all problems, you are always allowed to do the basic arithmetic (i.e., addition, subtraction, multiplication, division, exponentiation and logarithms) using a calculator or any software (R, Excel, etc.).\n",
    "\n",
    "---\n",
    "\n",
    "### Question 1: \n",
    "\n",
    "This problem continues the scenario from R Exercise #5. Run the code below so that the maple.txt data is loaded and the necessary variables are created:"
   ]
  },
  {
   "cell_type": "code",
   "execution_count": null,
   "metadata": {
    "vscode": {
     "languageId": "r"
    }
   },
   "outputs": [],
   "source": [
    "#Run this cell\n",
    "maple <-read.delim(\"https://raw.githubusercontent.com/difuse-dartmouth/engineering-statistics-in-R/main/completed_module/data/maple.txt\", header = TRUE, sep = \"\\t\", dec = \".\")\n",
    "summary(maple)\n",
    "attach(maple)\n",
    "\n",
    "VARMEAN=9*var(tapply(X=SAP, INDEX=FERT, FUN=mean))#VARMEAN = 405.4581\n",
    "TEFFECTS=tapply(X=SAP, INDEX=FERT, FUN=mean)-mean(SAP)#Low=-6.7740741  Med=6.6481481  High=0.1259259\n",
    "MEANVAR=mean(tapply(X=SAP, INDEX=FERT, FUN=var))#MEANVAR = 18.2938"
   ]
  },
  {
   "attachments": {},
   "cell_type": "markdown",
   "metadata": {},
   "source": [
    "---\n",
    "\n",
    "We  will  use  a  one-way  ANOVA  to  test  the  hypothesis  that  the  sap  productions  associated with  the three fertilizer applications are equal. An important first step in performing an ANOVA is to calculate the treatment sum of squares (SSTR).You may recall from lecture that the formula for SSTr is:\n",
    "\n",
    "$SSTr = \\sum_{i=1}^{I} J_i(\\overline{X}_i - \\overline{X}..)^2 = \\sum_{i=1}^{I} J_i\\overline{X}_i^2 - N\\overline{X}^2$\n",
    "\n",
    "### Question 1 part a)\n",
    "\n",
    "Calculateand report the SSTR using either version of the formula above. Save it as the variable ``SSTR``."
   ]
  },
  {
   "cell_type": "code",
   "execution_count": null,
   "metadata": {
    "vscode": {
     "languageId": "r"
    }
   },
   "outputs": [],
   "source": []
  },
  {
   "attachments": {},
   "cell_type": "markdown",
   "metadata": {},
   "source": []
  },
  {
   "attachments": {},
   "cell_type": "markdown",
   "metadata": {},
   "source": [
    "The next step is to calculate the error sum of squares (SSE) using the formula:\n",
    "\n",
    "$ SSE = \\sum_{i=1}^{I}\\sum_{j=1}^{J_{i}}(X_{ij} - \\overline{X}_i)^2 \\\\\n",
    "= \\sum_{i=1}^{I}\\sum_{j=1}^{J_{i}} {X_{ij}}^2 - \\sum_{i=1}^{I}J_{ij}{\\overline{X}_i}^2$\n",
    "\n",
    "### Question 1 part b)\n",
    "\n",
    "Calculate and report the `SSE` and save it as the variable `SSE`. Divide `SSTR` and `SSE` by their corresponding degrees of freedom to get `MSTR` and `MSE`, respectively. Compare the values of `MSTR` and `MSE` to the values of variables `VARMEAN` and `MEANVAR`. When you are comparing `MSTR` and `MSE`, what are you really comparing? Calculate the ratio of `MSTR` and `MSE` and save it as a variable `F`. Use the function `pf()` and the values of `F` and corresponding degrees of freedom to calculate and report a p-value for your hypothesis test. What do you conclude?"
   ]
  },
  {
   "cell_type": "code",
   "execution_count": null,
   "metadata": {
    "vscode": {
     "languageId": "r"
    }
   },
   "outputs": [],
   "source": []
  },
  {
   "attachments": {},
   "cell_type": "markdown",
   "metadata": {},
   "source": []
  },
  {
   "attachments": {},
   "cell_type": "markdown",
   "metadata": {},
   "source": [
    "### Question 1 part c)\n",
    "\n",
    "c. Confirm all your calculations made above using the ANOVA functions in R, either:\n",
    "\n",
    "`maple.lm=lm(SAP~FERT)\n",
    " anova(maple.lm)`\n",
    "\n",
    "or\n",
    "\n",
    "`maple.aov1=aov(SAP~FERT)\n",
    " summary(maple.aov1)`\n",
    "\n",
    "You can extract the values for the treatment effects using:\n",
    "\n",
    "`model.tables(maple.aov1)`\n",
    "\n",
    "Confirm that these match the values you calculated in question 3 in R Exercise 5."
   ]
  },
  {
   "cell_type": "code",
   "execution_count": null,
   "metadata": {
    "vscode": {
     "languageId": "r"
    }
   },
   "outputs": [],
   "source": []
  },
  {
   "attachments": {},
   "cell_type": "markdown",
   "metadata": {},
   "source": []
  },
  {
   "attachments": {},
   "cell_type": "markdown",
   "metadata": {},
   "source": [
    "It is important that you confirm the assumptions made in performing an ANOVA by doing residuals diagnosis. You can generate all the necessary plots in R using: `plot(maple.aov1)`, but first issue the command `par(mfrow=c(2,2))` so that you can see all four plots at once.\n",
    "\n",
    "### Question 1 part d)\n",
    "\n",
    "Looking at the top two plots, can you conclude that the assumptions of ANOVA are met? Explain.\n"
   ]
  },
  {
   "cell_type": "code",
   "execution_count": null,
   "metadata": {
    "vscode": {
     "languageId": "r"
    }
   },
   "outputs": [],
   "source": []
  },
  {
   "attachments": {},
   "cell_type": "markdown",
   "metadata": {},
   "source": []
  }
 ],
 "metadata": {
  "kernelspec": {
   "display_name": "R",
   "language": "R",
   "name": "ir"
  },
  "language_info": {
   "codemirror_mode": "r",
   "file_extension": ".r",
   "mimetype": "text/x-r-source",
   "name": "R",
   "pygments_lexer": "r",
   "version": "4.0.3"
  },
  "toc": {
   "base_numbering": 1,
   "nav_menu": {},
   "number_sections": true,
   "sideBar": true,
   "skip_h1_title": false,
   "title_cell": "Table of Contents",
   "title_sidebar": "Contents",
   "toc_cell": false,
   "toc_position": {},
   "toc_section_display": true,
   "toc_window_display": false
  }
 },
 "nbformat": 4,
 "nbformat_minor": 4
}
