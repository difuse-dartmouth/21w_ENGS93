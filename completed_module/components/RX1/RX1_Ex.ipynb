{
 "cells": [
  {
   "attachments": {},
   "cell_type": "markdown",
   "metadata": {},
   "source": [
    "# RX1: Importing Data and Histograms \n",
    "\n",
    "Spatial variation in velocity and depth over a stream reach is one of the most important factors regulating stream ecosystem structure and function. The habitat of plants, invertebrates, and fish is strongly influenced by these variables and by the resulting flow characteristics. Human modification of streams, especially flow regulation and riverbed channelization, is therefore altering local habitat suitability.\n",
    "\n",
    "![](https://i.imgur.com/R4jTkKH.gif)\n",
    "\n",
    "\n",
    "In this exercise, we will explore the **distributions of depth and velocity in streams**, as well as their **joint distribution**. Along the way, we will cover various R functions for working with both **empirical (i.e. data-based) and theoretical distributions**.\n",
    "\n",
    "## Importing Data Using Scripts\n",
    "\n",
    "Lamouroux and Jowett (2005) reported in-stream data  from  92  stream  reaches  in  New  Zealand. Each  reach  was  surveyed  once  to  obtain  a  set  of **velocity-depth     pairs**     representing     *hydraulic conditions* at various points throughout the reach at  the  time  of  the  survey.Here  we  focus  on  the **275**  point  data  collected  at  the  river  Opihi.\n",
    "\n",
    "![](https://i.imgur.com/tjDug71.png)\n",
    "\n",
    "There are two ways we can import data in to R. The provided solutions will use the SECOND way, and we recommend this way too. However, it is important to know both. That way, you can chose which one you prefer.\n",
    "\n",
    "Option 1: Setting a working directory. This requires you to download the data on to your local machine and access it directly. \n",
    "\n",
    "First, you must download the data from Canvas. It is under:\n",
    "\n",
    "Files > RX > \"Opihi.txt\"\n",
    "\n",
    "Save this file to your hard drive, and **REMEMBER ITS LOCATION**. You will need to know which in which directory it resides (for example, \"Downloads\") in order to use it. \n",
    "\n",
    "Please note that files must be TEXT files (.txt). In some future RX assignments, Canvas files are excel (.xls) files. When you download them, you will need to *SaveAs -> .txt file* in order to proceed with this method.  \n",
    "\n",
    "Now we are going to **set our working directory**. This is done with thr R command: **setwd()**\n",
    "\n",
    "This command takes the string of the *directory path* as an argument. The directory path we want to use is the one in which \"Opihi.txt\" is stored. For example, if you are on a personal computer and stored the file in your *Downloads*, your command may look something like this:\n",
    "\n",
    "```\n",
    "setwd(\"/Users/your_name/Downloads\")\n",
    "\n",
    "```\n",
    "\n",
    "Once you do this, we can access the .txt file (and any other file in this direcotry) straight from the command line. **Make sure your path is in \"quotations\", and note the use of FORWARD SLASHES!**\n",
    "\n",
    "Now you can create an R object to hold all of this data using the **read.table()** command, which works as follows:\n",
    "```\n",
    "Robject_name = read.table(\"TextFileName.txt\", header=TRUE)\n",
    "```\n",
    "In this case, our file is called \"Opihi.txt\". Name your R object apropriately. We suggest \"opihi\".\n",
    "\n",
    "Note the arguments here - We want **header=TRUE** to indicate that the data has column headers\n",
    "\n",
    "---------------\n",
    "\n",
    "Option 2: Reading from Github Repository. \n",
    "\n",
    "We can also access all of our text files through a git repository. We have one for this class through Dartmouth's DIFUSE project. You do not need to download anything from Canvas. This is the command we will use:\n",
    " \n",
    "Robject_name <- read.delim(\"https://raw.githubusercontent.com/difuse-dartmouth/engineering-statistics-in-R/main/completed_module/data/Opihi.txt\", header = TRUE, sep = \"\\t\", dec = \".\")\n",
    "\n",
    "\n",
    "Where:\n",
    "- Robject_name is the name of your R object you wish to create\n",
    "- Opihi.txt is the text file we are trying to access. In future RX assignments, this will change depending on which file we want to use. \n",
    "\n",
    "Note the use of '<-' for assigning instead of '=', and that the url to the GitHub is in quotations! \n",
    "\n",
    "All files in the Github are text files, so no conversion is needed. \n",
    "\n",
    "\n",
    "---------------\n",
    "--------------\n",
    "\n",
    "**EXERCISE 1:** Using one of the options described above read the data from \"Opihi.txt\" into an R object called \"opihi\". \n"
   ]
  },
  {
   "cell_type": "code",
   "execution_count": null,
   "metadata": {
    "solution2": "shown",
    "solution2_first": true,
    "vscode": {
     "languageId": "r"
    }
   },
   "outputs": [],
   "source": [
    "3+3"
   ]
  },
  {
   "cell_type": "code",
   "execution_count": null,
   "metadata": {
    "solution2": "shown",
    "vscode": {
     "languageId": "r"
    }
   },
   "outputs": [],
   "source": [
    "opihi <- read.delim(\"https://raw.githubusercontent.com/difuse-dartmouth/engineering-statistics-in-R/main/completed_module/data/Opihi.txt\", header = TRUE, sep = \"\\t\", dec = \".\")\n"
   ]
  },
  {
   "attachments": {},
   "cell_type": "markdown",
   "metadata": {},
   "source": [
    "<span class=\"girk\">**EXERCISE 2:**</span>  Double check you did this correctly, lets check what the first value for Depth is, in other words, the *first value in the second column*. Recall you can do this by indexing:\n",
    "\n",
    "```\n",
    "R_object[row, column]\n",
    "\n",
    "```\n",
    "\n",
    "Did you get 0.18? "
   ]
  },
  {
   "cell_type": "code",
   "execution_count": null,
   "metadata": {
    "solution2": "hidden",
    "solution2_first": true,
    "vscode": {
     "languageId": "r"
    }
   },
   "outputs": [],
   "source": []
  },
  {
   "cell_type": "code",
   "execution_count": null,
   "metadata": {
    "solution2": "hidden",
    "vscode": {
     "languageId": "r"
    }
   },
   "outputs": [],
   "source": [
    "opihi[1,2]\n"
   ]
  },
  {
   "attachments": {},
   "cell_type": "markdown",
   "metadata": {},
   "source": [
    "<span class=\"girk\">**EXERCISE 2:**</span> Use the **attach()** command on your new R object so that we can refer to the variables in the data by their names alone. Refer back to RX0 if you need a refresher on this command! Once you are finished, view a summary of the data. \n"
   ]
  },
  {
   "cell_type": "code",
   "execution_count": null,
   "metadata": {
    "solution2": "hidden",
    "solution2_first": true,
    "vscode": {
     "languageId": "r"
    }
   },
   "outputs": [],
   "source": []
  },
  {
   "cell_type": "code",
   "execution_count": null,
   "metadata": {
    "solution2": "hidden",
    "vscode": {
     "languageId": "r"
    }
   },
   "outputs": [],
   "source": [
    "attach(opihi)\n",
    "summary(opihi)"
   ]
  },
  {
   "attachments": {},
   "cell_type": "markdown",
   "metadata": {},
   "source": [
    "## Univariate Distributions\n",
    "\n",
    "### Histograms and density functions\n",
    "\n",
    "\n",
    "<span class=\"girk\">**EXERCISE 3:**</span> Recall that R has commands **mean()** and **sd()** to calculate the mean and standard deviation of a variable.\n",
    "\n",
    "Calculate the mean and standard deviation of Depth, and *save these valubles into new the new variables*:\n",
    "\n",
    "``` xbar.d ``` (mean Depth) \n",
    "```  s.d ```(standard deviation of Depth) \n",
    "\n",
    "You can then output these variables to check they are the right values. Does the mean match the value you saw in your summary in Exercise 2?"
   ]
  },
  {
   "cell_type": "code",
   "execution_count": null,
   "metadata": {
    "solution2": "hidden",
    "solution2_first": true,
    "vscode": {
     "languageId": "r"
    }
   },
   "outputs": [],
   "source": []
  },
  {
   "cell_type": "code",
   "execution_count": null,
   "metadata": {
    "scrolled": true,
    "solution2": "hidden",
    "vscode": {
     "languageId": "r"
    }
   },
   "outputs": [],
   "source": [
    "xbar.d = mean(Depth)\n",
    "s.d = sd(Depth)\n",
    "xbar.d\n",
    "s.d"
   ]
  },
  {
   "attachments": {},
   "cell_type": "markdown",
   "metadata": {},
   "source": [
    "<span class=\"girk\">**EXERCISE 4:**</span> Repeat Exercise 3 for the variable Velocity. Use these new varible names:\n",
    "\n",
    "``` xbar.v ``` (mean Velocity) \n",
    "```  s.v ```(standard deviation of Velocity) "
   ]
  },
  {
   "cell_type": "code",
   "execution_count": null,
   "metadata": {
    "solution2": "hidden",
    "solution2_first": true,
    "vscode": {
     "languageId": "r"
    }
   },
   "outputs": [],
   "source": []
  },
  {
   "cell_type": "code",
   "execution_count": null,
   "metadata": {
    "solution2": "hidden",
    "vscode": {
     "languageId": "r"
    }
   },
   "outputs": [],
   "source": [
    "xbar.v = mean(Velocity)\n",
    "s.v = sd(Velocity)\n",
    "xbar.v\n",
    "s.v"
   ]
  },
  {
   "attachments": {},
   "cell_type": "markdown",
   "metadata": {},
   "source": [
    "<span class=\"girk\">**EXERCISE 5:**</span> Use the **hist( )** command that you learned last week to plot a histogram of **Velocity**, using the argument “probability=TRUE” to normalize the probabilities. Does the histogram look approximately Normal (i.e. is it approximately symmetric and bell- shaped)?"
   ]
  },
  {
   "cell_type": "code",
   "execution_count": null,
   "metadata": {
    "solution2": "hidden",
    "solution2_first": true,
    "vscode": {
     "languageId": "r"
    }
   },
   "outputs": [],
   "source": []
  },
  {
   "cell_type": "code",
   "execution_count": null,
   "metadata": {
    "solution2": "hidden",
    "vscode": {
     "languageId": "r"
    }
   },
   "outputs": [],
   "source": [
    "hist(Velocity, probability=TRUE)"
   ]
  },
  {
   "attachments": {},
   "cell_type": "markdown",
   "metadata": {},
   "source": [
    "Recall that Normal Distribution is a continue probability distribution represented by a bell-shaped curve. Lets add one to our histogram. We will need to first create a vector called **x.v**. We can do this with the **seq()** command, which is a *sequence generator*. The arguments of this command are as follows:\n",
    "\n",
    "```seq(from= , to= , by= )```\n",
    "\n",
    "where *from* and *to* are the beginning and end of your range, and *by* is your increment size. \n",
    "\n",
    "<span class=\"girk\">**EXERCISE 6:**</span> Create an R object **x.v** that is a vector spanning the range of Velocity values. (Hint: We suggest picking a small increment value, like 0.01) The range values do not have to be exact, but should effectibly capture the entire range of Velocity values.\n"
   ]
  },
  {
   "cell_type": "code",
   "execution_count": null,
   "metadata": {
    "solution2": "hidden",
    "solution2_first": true,
    "vscode": {
     "languageId": "r"
    }
   },
   "outputs": [],
   "source": []
  },
  {
   "cell_type": "code",
   "execution_count": null,
   "metadata": {
    "solution2": "hidden",
    "vscode": {
     "languageId": "r"
    }
   },
   "outputs": [],
   "source": [
    "x.v=seq(from=0, to=4, by=0.01)"
   ]
  },
  {
   "attachments": {},
   "cell_type": "markdown",
   "metadata": {},
   "source": [
    "The next step is to calculate the value of the Normal density function at each value of x.v. We can do this using the calculated mean and standard deviation of your data from previous exercises.\n",
    "\n",
    "We will need to use 2 commands to do this. The first is **dnorm()**, which returns the value of the probability density function for the normal distribution. Its arguments are as follows:\n",
    "\n",
    "```dnorm(value, mean = , sd = )```\n",
    "\n",
    "Note that this will return a single value if the *first* argument is a single value. However, we will want to pass our **x.v** vector as the first argument so that it returns a **vector** of **all** the density values. \n",
    "\n",
    "<span class=\"girk\">**EXERCISE 7:**</span> Use **dnorm()** and the mean and sd values for Velocity to create a new vector **y.v** that holds the value of the Normal density function at each value of **x.v**.\n",
    "\n",
    "Hint:In previous exercises we *already* saved the mean and sd in two variables! Use them as arguments to make life a little easier.  \n"
   ]
  },
  {
   "cell_type": "code",
   "execution_count": null,
   "metadata": {
    "solution2": "hidden",
    "solution2_first": true,
    "vscode": {
     "languageId": "r"
    }
   },
   "outputs": [],
   "source": []
  },
  {
   "cell_type": "code",
   "execution_count": null,
   "metadata": {
    "solution2": "hidden",
    "vscode": {
     "languageId": "r"
    }
   },
   "outputs": [],
   "source": [
    "y.v=dnorm(x.v, mean=xbar.v, sd=s.v)"
   ]
  },
  {
   "attachments": {},
   "cell_type": "markdown",
   "metadata": {},
   "source": [
    "Finally, lets create our desired line using the **lines()** command. This command adds a function to a plot. **NOTE** - you will have to plot your histogram before you call this command, so use your answer to Exercise 5 before calling lines().\n",
    "\n",
    "The syntax for lines is:\n",
    "\n",
    "```lines(v1~v2)``` where v1 is thr variable on the y axis and v2 is the variable on the x axis. Think about which of your variables would take thier place....\n",
    "\n",
    "\n",
    "<span class=\"girk\">**EXERCISE 8:**</span> Plot your histogram once again, and then use **lines()** to add the Normal Denisty function curve to your plot. "
   ]
  },
  {
   "cell_type": "code",
   "execution_count": null,
   "metadata": {
    "solution2": "hidden",
    "solution2_first": true,
    "vscode": {
     "languageId": "r"
    }
   },
   "outputs": [],
   "source": [
    "code"
   ]
  },
  {
   "cell_type": "code",
   "execution_count": null,
   "metadata": {
    "solution2": "hidden",
    "vscode": {
     "languageId": "r"
    }
   },
   "outputs": [],
   "source": [
    "hist(Velocity, probability=TRUE)\n",
    "lines(y.v~x.v)"
   ]
  },
  {
   "attachments": {},
   "cell_type": "markdown",
   "metadata": {},
   "source": [
    "How does your plot look? Does the curve match the histogram well? \n",
    "\n",
    "<span class=\"girk\">**EXERCISE 9:**</span> Repeat the same plotting procedure (i.e. Exercises 3-8) for the variable **Depth** this time. Use variables *xbar.d, s.d, x.d, and y.d.* Plot the histogram and the normal density function as before. Is Depth approximately Normally distributed as well?"
   ]
  },
  {
   "cell_type": "code",
   "execution_count": null,
   "metadata": {
    "vscode": {
     "languageId": "r"
    }
   },
   "outputs": [],
   "source": []
  },
  {
   "attachments": {},
   "cell_type": "markdown",
   "metadata": {
    "solution2": "hidden",
    "solution2_first": true
   },
   "source": [
    "answer"
   ]
  },
  {
   "cell_type": "code",
   "execution_count": null,
   "metadata": {
    "solution2": "hidden",
    "vscode": {
     "languageId": "r"
    }
   },
   "outputs": [],
   "source": [
    "xbar.d = mean(Depth)\n",
    "s.d = sd(Depth)\n",
    "x.d=seq(from=0, to=1, by=0.01)\n",
    "y.d=dnorm(x.d, mean=xbar.d, sd=s.d)\n",
    "\n",
    "hist(Depth, probability=TRUE)\n",
    "lines(y.d~x.d)"
   ]
  }
 ],
 "metadata": {
  "kernelspec": {
   "display_name": "R",
   "language": "R",
   "name": "ir"
  },
  "language_info": {
   "codemirror_mode": "r",
   "file_extension": ".r",
   "mimetype": "text/x-r-source",
   "name": "R",
   "pygments_lexer": "r",
   "version": "4.0.3"
  },
  "toc": {
   "base_numbering": 1,
   "nav_menu": {},
   "number_sections": true,
   "sideBar": true,
   "skip_h1_title": false,
   "title_cell": "Table of Contents",
   "title_sidebar": "Contents",
   "toc_cell": false,
   "toc_position": {
    "height": "calc(100% - 180px)",
    "left": "10px",
    "top": "150px",
    "width": "256.188px"
   },
   "toc_section_display": true,
   "toc_window_display": false
  }
 },
 "nbformat": 4,
 "nbformat_minor": 5
}
