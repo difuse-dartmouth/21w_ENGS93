{
 "cells": [
  {
   "attachments": {},
   "cell_type": "markdown",
   "metadata": {},
   "source": [
    "# RX4: DDT in the Tennessee River\n",
    "\n",
    "Chemical and manufacturing plants have historically discharged toxic waste materials into nearby rivers and streams. These toxicants have a detrimental effect on the plant and animal life inhabiting the river and the river's bank. One type of pollutant, commonly known as DDT, is especially harmful to fish and, indirectly, to people. A study was undertaken to examine the DDT content of fish inhabiting the Tennessee River and its tributaries. The Tennessee River flows in a west-east direction across the northern part of the state of Alabama, through Wheeler Reservoir, a national wildlife refuge. Ecologists fear that contaminated fish migrating from the mouth of the river to the reservoir could endanger other wildlife that prey on the fish.\n",
    "\n",
    "![](https://i.imgur.com/BJqeBxU.gif)\n",
    "\n",
    "A manufacturing plant was once located along Indian Creek, which enters the Tennessee River 321 miles upstream from the mouth. Although the plant has been inactive for over 10 years, there is evidence that the plant discharged toxic materials into the creek, contaminating all the fish in the immediate area. Have the fish in the Tennessee River and its tributary creeks also been contaminated? And if so, how far upstream have the contaminated fish migrated? To answer these and other questions, members of the U.S. Army Corps of Engineers collected fish specimens at different locations along the Tennessee River (TR) and three tributary creeks: Flint Creek (FC, which enters the river 309 miles upstream from the river’s mouth), Limestone Creek (LC, 310 miles upstream), and Spring Creek (SC, 282 miles upstream). Each fish was first weighed (in grams) and measured (length in centimeters), then the fillet of the fish was extracted and the DDT concentration (in parts per million) of the fillet was measured. Three species of fish were examined: channel catfish, largemouth bass, and smallmouth buffalo.\n",
    "\n",
    "The fish.txt data file contains the location, length, weight, and DDT measurements for a total of 144 fish specimens. Obviously, not all the fish in the Tennessee River and its tributaries were captured, so the data represent a sample collected from the population of all fish. The U.S. Army Corps of Engineers used the data in this file to compare the DDT contents of fish at different locations and among the different species, and to determine the relationship (if any) of length and weight to DDT content. We will investigate some of these issues in this exercise.\n",
    "\n",
    "(Data description taken from Mendenhall and Sincich, 2007, Statistics for Engineering and the Sciences, 5th edition, Pearson Prentice Hall: Upper Saddle River, NJ)\n",
    "\n",
    "-----\n",
    "\n",
    "## Import Data\n",
    "First lets import the data in to R. \n",
    "\n",
    "<span class=\"girk\">**EXERCISE 1:**</span> Use the read.delim() command to save the \"fish.txt\" file in the git repository into an R object called \"fish\". You can do this with the following arguments:\n",
    "```\n",
    "read.delim(\"https://raw.githubusercontent.com/difuse-dartmouth/engineering-statistics-in-R/main/completed_module/data/fish.txt\", header = TRUE, sep = \"\\t\", dec = \".\")\n",
    "```\n",
    "\n",
    "Make sure when you are storing this as an R object, you use the \"<-\" symbol, NOT \"=\". \n",
    "\n",
    "Output a summary of your R object \"fish\" to see what the data includes, then use attach() to associate the column headers with the data. Then we can use the column headers directly as variables.\n"
   ]
  },
  {
   "cell_type": "code",
   "execution_count": null,
   "metadata": {
    "solution2": "hidden",
    "solution2_first": true,
    "vscode": {
     "languageId": "r"
    }
   },
   "outputs": [],
   "source": []
  },
  {
   "cell_type": "code",
   "execution_count": null,
   "metadata": {
    "solution2": "hidden",
    "vscode": {
     "languageId": "r"
    }
   },
   "outputs": [],
   "source": [
    "fish <- read.delim(\"https://raw.githubusercontent.com/difuse-dartmouth/engineering-statistics-in-R/main/completed_module/data/fish.txt\", header = TRUE, sep = \"\\t\", dec = \".\")\n",
    "summary(fish)\n",
    "attach(fish)"
   ]
  },
  {
   "attachments": {},
   "cell_type": "markdown",
   "metadata": {},
   "source": [
    "## Exploratory Data Analysis\n",
    "\n",
    "As we have discussed in class, it is a good idea to create some plots of the data before beginning analysis, just to get a feel for distributions and relationships. \n",
    "\n",
    "<span class=\"girk\">**EXERCISE 2:**</span> Start by plotting a histogram of the DDT concentration data.Does DDT concentration appear to be normally distributed? Do you expect that a linear model of DDT concentration can lead to residuals that are normally distributed? Do you think a transformation of the DDT data would help you to see relationships any better?\n",
    "\n"
   ]
  },
  {
   "cell_type": "code",
   "execution_count": null,
   "metadata": {
    "solution2": "hidden",
    "solution2_first": true,
    "vscode": {
     "languageId": "r"
    }
   },
   "outputs": [],
   "source": []
  },
  {
   "cell_type": "code",
   "execution_count": null,
   "metadata": {
    "solution2": "hidden",
    "vscode": {
     "languageId": "r"
    }
   },
   "outputs": [],
   "source": [
    "hist(DDT)\n",
    "#The distribution does not appear to be normal.\n",
    "#a log transformation is worth a try."
   ]
  },
  {
   "attachments": {},
   "cell_type": "markdown",
   "metadata": {},
   "source": [
    "For data that are limited to positive values and are highly skewed, such as the DDT data, it is often useful to work with the natural logarithm of the values.\n",
    "\n",
    "<span class=\"girk\">**EXERCISE 3:**</span> Create a variable called LN.DDT with the command:\n",
    "```\n",
    "LN.DDT = log(DDT)\n",
    "```\n",
    "Repeat the process using LN.DDT in place of DDT. Now what do you conclude?"
   ]
  },
  {
   "cell_type": "code",
   "execution_count": null,
   "metadata": {
    "solution2": "hidden",
    "solution2_first": true,
    "vscode": {
     "languageId": "r"
    }
   },
   "outputs": [],
   "source": []
  },
  {
   "cell_type": "code",
   "execution_count": null,
   "metadata": {
    "solution2": "hidden",
    "vscode": {
     "languageId": "r"
    }
   },
   "outputs": [],
   "source": [
    "LN.DDT=log(DDT)\n",
    "hist(LN.DDT)\n",
    "#This looks a lot more like normal distribution now."
   ]
  },
  {
   "attachments": {},
   "cell_type": "markdown",
   "metadata": {},
   "source": [
    "Paired numerical data are often viewed with a scatterplot. As we’ve seen, these can be produced using the plot() function. However, this function has a few different ways it can be used.\n",
    "For instance, we can plot DDT concentration against fish length or weight measurements with any two of these separated by a comma. As the dataset is attached, we can refer to these variables by their names:\n",
    "\n",
    "```\n",
    "plot(WEIGHT, DDT)\n",
    "```\n",
    "If we think of the DDT concentration as being determined by the fish size, then we might want to use R’s model formula notation. This puts the dependent variable on the left of a tilde, ~, and the independent variable(s) on the right:\n",
    "```\n",
    "plot(DDT ~ WEIGHT)\n",
    "```\n",
    "When the data set is not attached, the model formula notation allows one to briefly attach the data using the data= argument:\n",
    "```\n",
    "plot(DDT ~ WEIGHT, data=fish)\n",
    "```\n",
    "As well, the argument subset= can be used with a logical expression to reduce the number of points plotted. This example plots only fish caught in Spring Creek:\n",
    "```\n",
    "plot(DDT ~ WEIGHT, subset=RIVER==\"SC\")\n",
    "```\n",
    "Use your scratchpad to practice these commands and their arguments.\n",
    "\n",
    "<span class=\"girk\">**EXERCISE 4:**</span> Create scatterplots of DDT against fish length and also against weight. Do each of the relationships appear to be approximately linear? Are there any outliers?"
   ]
  },
  {
   "cell_type": "code",
   "execution_count": null,
   "metadata": {
    "solution2": "hidden",
    "solution2_first": true,
    "vscode": {
     "languageId": "r"
    }
   },
   "outputs": [],
   "source": []
  },
  {
   "cell_type": "code",
   "execution_count": null,
   "metadata": {
    "solution2": "hidden",
    "vscode": {
     "languageId": "r"
    }
   },
   "outputs": [],
   "source": [
    "plot(DDT~LENGTH)\n",
    "plot(DDT~WEIGHT)\n",
    "#Neither of these two relationships appear to be approximately linear.\n",
    "#Also, in either relationship there are a few (at least 3 each) outliers."
   ]
  },
  {
   "attachments": {},
   "cell_type": "markdown",
   "metadata": {},
   "source": [
    "<span class=\"girk\">**EXERCISE 5:**</span> Repeat these plots using LN.DDT instead. Does this improve the linearity and reduce the outliers? Based on the scatterplots, do you expect positive or negative, large or small, correlations between the variables? Why? "
   ]
  },
  {
   "cell_type": "code",
   "execution_count": null,
   "metadata": {
    "solution2": "hidden",
    "solution2_first": true,
    "vscode": {
     "languageId": "r"
    }
   },
   "outputs": [],
   "source": []
  },
  {
   "cell_type": "code",
   "execution_count": null,
   "metadata": {
    "solution2": "hidden",
    "vscode": {
     "languageId": "r"
    }
   },
   "outputs": [],
   "source": [
    "plot(LN.DDT~LENGTH)\n",
    "plot(LN.DDT~WEIGHT)\n",
    "#These plots of LN.DDT look a lot closer to linearity.\n",
    "#Also now there aren't any serious outliers.\n",
    "#Based on these scatterplots, the correlation of DDT with LENGTH or with WEIGHT is not very clear.\n",
    "#I speculate both correlations will be low and predominantly driven by the outliers.\n",
    "#So DDT should have a small positive correlation with LENGTH and a small negative correlation with WEIGHT.\n",
    "#I expect LN.DDT to be positively correlated with both LENGTH and WEIGHT.\n",
    "#I expect the correlation with LENGTH to be higher than that with WEIGHT in magnitude"
   ]
  },
  {
   "attachments": {},
   "cell_type": "markdown",
   "metadata": {},
   "source": [
    "Lets calculate some correlation values to see if our speculations are corrrect. \n",
    "\n",
    "<span class=\"girk\">**EXERCISE 6:**</span> Calculate and report the correlation coefficients for the variables using the cor() function to find out. What conclusions do you draw about the relationship between LN.DDT and fish weight or length? Does one relationship appear to be stronger than the other? Are either approximately linear?\n",
    "\n",
    "Hint: cor() takes two arguments, each a variable, and returns the correlation coefficient. \n"
   ]
  },
  {
   "cell_type": "code",
   "execution_count": null,
   "metadata": {
    "solution2": "hidden",
    "solution2_first": true,
    "vscode": {
     "languageId": "r"
    }
   },
   "outputs": [],
   "source": []
  },
  {
   "cell_type": "code",
   "execution_count": null,
   "metadata": {
    "solution2": "hidden",
    "vscode": {
     "languageId": "r"
    }
   },
   "outputs": [],
   "source": [
    "cor(LENGTH, DDT) #0.1261057\n",
    "cor(WEIGHT, DDT) #-0.01190568\n",
    "cor(LENGTH, LN.DDT) #0.5229223\n",
    "cor(WEIGHT, LN.DDT) #0.1721914\n",
    "#The relationship between LN.DDT and LENGTH appears to be strongly linear.\n",
    "#The relationship between LN.DDT and WEIGHT also appears to be linear, but weaker."
   ]
  },
  {
   "attachments": {},
   "cell_type": "markdown",
   "metadata": {},
   "source": [
    "## Linear Regression\n",
    "\n",
    "Now that we have learned about linear regression, we can go a lot further in our analysis. For example, we can answer questions like, “What is the equation relating Y to X?” and “How reliably can we predict Y from X?”\n",
    "\n",
    "The parameters, $β_{0}$ and $β_{1}$ , of a linear model are estimated using the method of least squares in R using the lm() function. The lm() function uses the model formula syntax. In this case, the linear model relating the log(DDT) concentration to weight is specified by\n",
    "\n",
    "```\n",
    "lm(LN.DDT ~ WEIGHT)\n",
    "```\n",
    "\n",
    "<span class=\"girk\">**EXERCISE 7:**</span>  Fit the regression line between LN.DDT and LENGTH using the lm() function. What are the estimated values for the slope and intercept of this line? "
   ]
  },
  {
   "cell_type": "code",
   "execution_count": null,
   "metadata": {
    "solution2": "hidden",
    "solution2_first": true,
    "vscode": {
     "languageId": "r"
    }
   },
   "outputs": [],
   "source": []
  },
  {
   "cell_type": "code",
   "execution_count": null,
   "metadata": {
    "solution2": "hidden",
    "vscode": {
     "languageId": "r"
    }
   },
   "outputs": [],
   "source": [
    "lm(LN.DDT ~ LENGTH)\n",
    "#Estimated values are slope = 0.1096 and intercept = -2.7972.\n"
   ]
  },
  {
   "attachments": {},
   "cell_type": "markdown",
   "metadata": {},
   "source": [
    "<span class=\"girk\">**EXERCISE 8:**</span> Use your results to predict the DDT concentration in a fish that is 35 cm long? (Don’t forget that you need to re- transform your response variable by **re-exponentiating** your predictions!)\n",
    "\n",
    "Use exp(y) to re-exponentiate. This returns e^y."
   ]
  },
  {
   "cell_type": "code",
   "execution_count": null,
   "metadata": {
    "solution2": "hidden",
    "solution2_first": true,
    "vscode": {
     "languageId": "r"
    }
   },
   "outputs": [],
   "source": []
  },
  {
   "cell_type": "code",
   "execution_count": null,
   "metadata": {
    "solution2": "hidden",
    "vscode": {
     "languageId": "r"
    }
   },
   "outputs": [],
   "source": [
    "exp(35*(0.1096)+(-2.7972)) #2.8258\n",
    "#DDT concentration in a fish that is 35 cm long will be 2.8258"
   ]
  },
  {
   "attachments": {},
   "cell_type": "markdown",
   "metadata": {},
   "source": [
    "\n",
    "The lm() function does not automatically return very much information, but we can get more out of it using some extractor functions. These operate on a stored model object created by a function such as lm(). Some examples of extractor functions are given in Table 1.\n",
    "\n",
    "---\n",
    "**Table 1. Extractor functions for R model objects**\n",
    "\n",
    "| Function | Usage | \n",
    "| -------- | -------- | \n",
    "| summary()    | returns summary information about the regression     | \n",
    "| plot()    | makes diagnostic residual plots   | \n",
    "| coef()    | returns the estimated coefficients     | \n",
    "| residuals()   | returns the residuals    | \n",
    "| fitted()    | returns the fitted values for y     | \n",
    "| deviance()    | returns the residual sum of squares     | \n",
    "| predict()   | performs predictions for given values of x, including confidence intervals    | \n",
    "| anova()   | calculates various sums of squares    | \n",
    "\n",
    "---\n",
    "\n",
    "<span class=\"girk\">**EXERCISE 9:**</span> Put the results of your regression fit into an object called ddt.lm using the command: \n",
    "```\n",
    "ddt.lm = lm(LN.DDT~LENGTH)\n",
    "```"
   ]
  },
  {
   "cell_type": "code",
   "execution_count": null,
   "metadata": {
    "solution2": "hidden",
    "solution2_first": true,
    "vscode": {
     "languageId": "r"
    }
   },
   "outputs": [],
   "source": []
  },
  {
   "cell_type": "code",
   "execution_count": null,
   "metadata": {
    "solution2": "hidden",
    "vscode": {
     "languageId": "r"
    }
   },
   "outputs": [],
   "source": [
    "ddt.lm = lm(LN.DDT~LENGTH)"
   ]
  },
  {
   "attachments": {},
   "cell_type": "markdown",
   "metadata": {},
   "source": [
    "<span class=\"girk\">**EXERCISE 10:**</span> You can now handle ddt.lm as an R object. Begin by adding your fitted line to your scatterplot of LN.DDT vs. LENGTH using the command:\n",
    "\n",
    "```\n",
    "abline(ddt.lm).\n",
    "```\n",
    "Remember you must plot your scatterplot FIRST, and then add your fitted line."
   ]
  },
  {
   "cell_type": "code",
   "execution_count": null,
   "metadata": {
    "solution2": "hidden",
    "solution2_first": true,
    "vscode": {
     "languageId": "r"
    }
   },
   "outputs": [],
   "source": []
  },
  {
   "cell_type": "code",
   "execution_count": null,
   "metadata": {
    "solution2": "hidden",
    "vscode": {
     "languageId": "r"
    }
   },
   "outputs": [],
   "source": [
    "plot(LN.DDT~LENGTH)\n",
    "abline(ddt.lm)"
   ]
  },
  {
   "attachments": {},
   "cell_type": "markdown",
   "metadata": {},
   "source": [
    "<span class=\"girk\">**EXERCISE 11:**</span> View the full results of lm() by typing summary(ddt.lm). "
   ]
  },
  {
   "cell_type": "code",
   "execution_count": null,
   "metadata": {
    "solution2": "hidden",
    "solution2_first": true,
    "vscode": {
     "languageId": "r"
    }
   },
   "outputs": [],
   "source": []
  },
  {
   "cell_type": "code",
   "execution_count": null,
   "metadata": {
    "solution2": "hidden",
    "vscode": {
     "languageId": "r"
    }
   },
   "outputs": [],
   "source": [
    "summary(ddt.lm)"
   ]
  },
  {
   "attachments": {},
   "cell_type": "markdown",
   "metadata": {},
   "source": [
    "<span class=\"girk\">**EXERCISE 12:**</span> One of the results returned is the “Multiple R-Squared” value (this is the measure of model fit we discussed in class). What value results from your model? Is the returned fit value equal to the square of the correlation coefficient between LN.DDT and LENGTH? Use the cor() command to find out."
   ]
  },
  {
   "cell_type": "code",
   "execution_count": null,
   "metadata": {
    "solution2": "hidden",
    "solution2_first": true,
    "vscode": {
     "languageId": "r"
    }
   },
   "outputs": [],
   "source": []
  },
  {
   "cell_type": "code",
   "execution_count": null,
   "metadata": {
    "solution2": "hidden",
    "vscode": {
     "languageId": "r"
    }
   },
   "outputs": [],
   "source": [
    "(cor(LN.DDT, LENGTH))^2"
   ]
  },
  {
   "attachments": {},
   "cell_type": "markdown",
   "metadata": {},
   "source": [
    "<span class=\"girk\">**EXERCISE 13:**</span> The function anova() as applied to an lm object will return the various sums of squares. Recalculate the R2 value as the regression sum of squares (given by R as the sum of squares associated with each predictor variable) divided by the total sum of squares (which is equal to the regression sum of squares plus the residual sum of squares)."
   ]
  },
  {
   "cell_type": "code",
   "execution_count": null,
   "metadata": {
    "solution2": "hidden",
    "solution2_first": true,
    "vscode": {
     "languageId": "r"
    }
   },
   "outputs": [],
   "source": []
  },
  {
   "cell_type": "code",
   "execution_count": null,
   "metadata": {
    "solution2": "hidden",
    "vscode": {
     "languageId": "r"
    }
   },
   "outputs": [],
   "source": [
    "anova(ddt.lm)\n",
    "SSE=216.355\n",
    "SSR=81.428 \n",
    "R_Squared = SSR/(SSR+SSE) \n",
    "R_Squared\n",
    "#So again the same value as above is obtained."
   ]
  }
 ],
 "metadata": {
  "kernelspec": {
   "display_name": "R",
   "language": "R",
   "name": "ir"
  },
  "language_info": {
   "codemirror_mode": "r",
   "file_extension": ".r",
   "mimetype": "text/x-r-source",
   "name": "R",
   "pygments_lexer": "r",
   "version": "4.0.3"
  },
  "toc": {
   "base_numbering": 1,
   "nav_menu": {},
   "number_sections": true,
   "sideBar": true,
   "skip_h1_title": false,
   "title_cell": "Table of Contents",
   "title_sidebar": "Contents",
   "toc_cell": false,
   "toc_position": {},
   "toc_section_display": true,
   "toc_window_display": false
  }
 },
 "nbformat": 4,
 "nbformat_minor": 4
}
