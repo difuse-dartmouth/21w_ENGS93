{
 "cells": [
  {
   "attachments": {},
   "cell_type": "markdown",
   "metadata": {},
   "source": [
    "# ENGS93: Statistical Methods in Engineering: \n",
    "## Homework 6\n",
    "\n",
    "---\n",
    "\n",
    "**IMPORTANT:**\n",
    "Your answers in R should be put in the input box below the question. Make sure to *File->Save and Checkpoint* your notebook in order to save your code answers as you go. Once you are finished, save your R notebook and submit it to Canvas.\n",
    "\n",
    "Note: Each sub-question is worth 5 points. In all problems, you are always allowed to do the basic arithmetic (i.e., addition, subtraction, multiplication, division, exponentiation and logarithms) using a calculator or any software (R, Excel, etc.).\n",
    "\n",
    "---\n",
    "\n",
    "**QUESTION 1:** This problem continues the scenario from R Exercise #3. We have provided the code in the input box below. Please run this box so the necessary variables are created. This means you can access them as you complete the HW questions:\n",
    "\n"
   ]
  },
  {
   "cell_type": "code",
   "execution_count": null,
   "metadata": {
    "vscode": {
     "languageId": "r"
    }
   },
   "outputs": [],
   "source": [
    "#RX 3 Full Code solutions\n",
    "#RUN THIS CELL\n",
    "\n",
    "#Question 1\n",
    "n=20\n",
    "mu0=15\n",
    "se0=40/sqrt(n)\n",
    "xcrit=25\n",
    "1-pnorm((xcrit-mu0)/(se0)) #=0.1317762. This is alpha.\n",
    "\n",
    "#Question 2\n",
    "curve(dnorm(x,mu0,se0),from=mu0-4*se0, to=mu0+4*se0, xlim=c(-20,60))\n",
    "abline(v=25, col=\"red\")\n",
    "x=seq(from=xcrit, to=mu0+4*se0, by=0.1)\n",
    "y=dnorm(x, mu0, se0)\n",
    "polygon(c(25,x), c(0,y), col=\"grey\")\n",
    "\n",
    "#Question 3\n",
    "mu1=40\n",
    "se1=40/sqrt(n)\n",
    "pnorm((xcrit-mu1)/(se1)) #=0.04676626. This is beta.\n",
    "curve(dnorm(x,mu1,se1),from=mu1-4*se1, to=mu1+4*se1, col=\"blue\", add=TRUE)\n",
    "x=seq(from=mu1-4*se1, to=xcrit, by=0.01)\n",
    "y=dnorm(x,mu1,se1)\n",
    "polygon(c(x,25), c(y,0), col=\"lightgrey\")\n",
    "text(\"type I error\", x=34, y=0.005)\n",
    "text(\"type II error\", x=16, y=0.005)\n",
    "\n",
    "#Question 4\n",
    "n=30\n",
    "mu0=15\n",
    "se0=40/sqrt(n)\n",
    "xcrit=25\n",
    "1-pnorm((xcrit-mu0)/(se0)) #=0.08545176. This is alpha.\n",
    "curve(dnorm(x,mu0,se0),from=mu0-4*se0, to=mu0+4*se0, xlim=c(-20,60))\n",
    "abline(v=25, col=\"red\")\n",
    "x=seq(from=xcrit, to=mu0+4*se0, by=0.1)\n",
    "y=dnorm(x, mu0, se0)\n",
    "polygon(c(25,x), c(0,y), col=\"grey\")\n",
    "mu1=40\n",
    "se1=40/sqrt(n)\n",
    "curve(dnorm(x,mu1,se1),from=mu1-4*se1, to=mu1+4*se1, col=\"blue\", add=TRUE)\n",
    "x=seq(mu1-4*se1, 25)\n",
    "y=dnorm(x,mu1,se1)\n",
    "polygon(c(x,25), c(y,0), col=\"lightgrey\")\n",
    "text(\"type I error\", x=34, y=0.005)\n",
    "text(\"type II error\", x=16, y=0.005)\n"
   ]
  },
  {
   "attachments": {},
   "cell_type": "markdown",
   "metadata": {},
   "source": [
    "---\n",
    "\n",
    "Questions 3 and 4 from R Exercise #3 are examples of situations in which exactly one parameter value is specified under the alternate hypothesis (e.g. H1: 𝜇= 40). This is referred to as a simple hypothesis. If a hypothesis specifies more than one value, then it is called a composite hypothesis (e.g. H1: 𝜇 > 15). To get a complete picture of the error rates when the hypotheses are composite, it is often useful to plot the two error rates as functions of the true population parameter (e.g. 𝜇 in our example). Instead of dealing with these two functions separately, we can combine them into a single function called the operating characteristic (OC) function of the test. In general, if 𝜃 denotes the population parameter, then the OC function is the probability of failing to reject H0 as a function of 𝜃:\n",
    "\n",
    "OC(𝜃) = P{Test fails to reject $H_{0}$ | 𝜃 }.\n",
    "\n",
    "\n",
    "This implies that for 𝜃 values in H0, the value of the OC function corresponds to 1 – 𝛼, or the specificity of the test. For 𝜃 values in H1, the value of the OC function corresponds to 𝛽, or the Type II error rate. So the power function can be written as:\n",
    "\n",
    "P(𝜃)=P{Test rejects $H_{0}$ | 𝜃 } =1–OC(𝜃).\n",
    "\n",
    "---\n",
    "\n",
    "For our GRE example with n=20, the OC function can be written explicitly as a function of 𝜇 as:\n",
    "\n",
    "\n",
    "$OC(𝜇)$= P{$\\overline{X} \\leq 25 | 𝜇$} \n",
    "\n",
    "=$P$ { $Z=\\frac{\\overline{X} - 𝜇}{40/ \\sqrt{20}} \\leq \\frac{25 - 𝜇}{40/ \\sqrt{20}} | 𝜇$ }\n",
    "\n",
    "\n",
    "\n",
    "= $\\varphi$ {  $\\frac{25 - 𝜇}{40/ \\sqrt{20}  } $ }\n",
    "\n",
    "\n",
    "where $\\varphi$ is the standard normal cumulative distribution function (i.e. pnorm() in R).\n",
    "\n",
    "---\n",
    "\n",
    "### Question 1 part a)\n",
    "\n",
    "As before, the organization again sets up the hypotheses as: $H_{0}$: 𝜇 < 15 (coaching program is ineffective) vs. $H_{1}$: 𝜇 > 15 (coaching program is effective). Let sample size be n=20. Plot the OC curve for ETS’s coaching effectiveness test using the function curve(). Plot it between ```mu0-4*se0 and mu1+4*se0```. Be sure to label your axes appropriately as ``xlab=\"mu\" and ylab=\"OC(mu)\"``. Add vertical lines to your plot at 𝜇 =15 (no coaching effect), 𝜇 =25 (moderate coaching effect), and 𝜇 =40 (large coaching effect). How do you interpret the values\n",
    "of the curve at these points? In which cases do you interpret the OC curve in terms of 𝛼, and\n",
    "in which cases do you interpret it in terms of 𝛽?"
   ]
  },
  {
   "cell_type": "code",
   "execution_count": null,
   "metadata": {
    "vscode": {
     "languageId": "r"
    }
   },
   "outputs": [],
   "source": []
  },
  {
   "attachments": {},
   "cell_type": "markdown",
   "metadata": {},
   "source": []
  },
  {
   "attachments": {},
   "cell_type": "markdown",
   "metadata": {},
   "source": [
    "---\n",
    "\n",
    "A good statistical test has small Type I and Type II error rates; i.e. its OC function falls steeply as the parameter values change from $H_{0}$ to $H_{1}$. A test with this property is said to strongly discriminate between H0 and H1. Due to sampling variation, no statistical test can be perfectly discriminating.\n",
    "\n",
    "### Question 1 part b)\n",
    "\n",
    "How does the OC curve change with increasing sample size? To determine this, add modified OC curves to your plot using n=30, n=50, and n=70. Describe how OC curve changes with increasing sample size. REMEMBER: run your code from part a) to create the original plot, then add the modified curves. Do this all in the input box below. "
   ]
  },
  {
   "cell_type": "code",
   "execution_count": null,
   "metadata": {
    "vscode": {
     "languageId": "r"
    }
   },
   "outputs": [],
   "source": []
  },
  {
   "attachments": {},
   "cell_type": "markdown",
   "metadata": {},
   "source": []
  },
  {
   "attachments": {},
   "cell_type": "markdown",
   "metadata": {},
   "source": [
    "---\n",
    "\n",
    "### Question 1 part c)\n",
    "\n",
    "How would the OC curve change if ETS chose a rejection region of $\\overline{X} > 35$ ? To determine this,\n",
    "repeat the plotting steps of Part a of this question making the appropriate substitution (keeping n=20). Compare the values of the curve at 𝜇 =15, 𝜇 =25, and 𝜇 =40 with those you obtained in Part a of this question. Explain why this happens."
   ]
  },
  {
   "cell_type": "code",
   "execution_count": null,
   "metadata": {
    "vscode": {
     "languageId": "r"
    }
   },
   "outputs": [],
   "source": []
  },
  {
   "attachments": {},
   "cell_type": "markdown",
   "metadata": {},
   "source": []
  }
 ],
 "metadata": {
  "kernelspec": {
   "display_name": "R",
   "language": "R",
   "name": "ir"
  },
  "language_info": {
   "codemirror_mode": "r",
   "file_extension": ".r",
   "mimetype": "text/x-r-source",
   "name": "R",
   "pygments_lexer": "r",
   "version": "4.0.3"
  },
  "toc": {
   "base_numbering": 1,
   "nav_menu": {},
   "number_sections": true,
   "sideBar": true,
   "skip_h1_title": false,
   "title_cell": "Table of Contents",
   "title_sidebar": "Contents",
   "toc_cell": false,
   "toc_position": {},
   "toc_section_display": true,
   "toc_window_display": false
  }
 },
 "nbformat": 4,
 "nbformat_minor": 4
}
