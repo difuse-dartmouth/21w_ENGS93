{
 "cells": [
  {
   "cell_type": "markdown",
   "metadata": {},
   "source": [
    "# ENGS93: Statistical Methods in Engineering:\n",
    "## Homework 7\n",
    "\n",
    "---\n",
    "\n",
    "**IMPORTANT:**\n",
    "Your answers in R should be put in the input box below the question. Make sure to *File->Save and Checkpoint* your notebook in order to save your code answers as you go. Once you are finished, save your R notebook and submit it to Canvas.\n",
    "\n",
    "Note: Each sub-question is worth 5 points. In all problems, you are always allowed to do the basic arithmetic (i.e., addition, subtraction, multiplication, division, exponentiation and logarithms) using a calculator or any software (R, Excel, etc.).\n",
    "\n",
    "---\n",
    "\n",
    "### Question 1: \n",
    "\n",
    "This problem continues the scenario from R Exercise #4. Run the code below so you have loaded and attached the fish.txt data set and created the ddt.lm regression object as in R Exercise #4. "
   ]
  },
  {
   "cell_type": "code",
   "execution_count": 2,
   "metadata": {},
   "outputs": [
    {
     "data": {
      "text/plain": [
       "    RIVER                MILE         SPECIES              LENGTH     \n",
       " Length:144         Min.   :  1.0   Length:144         Min.   :17.50  \n",
       " Class :character   1st Qu.:283.8   Class :character   1st Qu.:40.50  \n",
       " Mode  :character   Median :300.0   Mode  :character   Median :45.00  \n",
       "                    Mean   :268.6                      Mean   :42.81  \n",
       "                    3rd Qu.:320.0                      3rd Qu.:47.50  \n",
       "                    Max.   :345.0                      Max.   :52.00  \n",
       "     WEIGHT            DDT          \n",
       " Min.   : 173.0   Min.   :   0.110  \n",
       " 1st Qu.: 805.5   1st Qu.:   3.375  \n",
       " Median :1000.0   Median :   7.150  \n",
       " Mean   :1049.7   Mean   :  24.355  \n",
       " 3rd Qu.:1257.8   3rd Qu.:  13.000  \n",
       " Max.   :2302.0   Max.   :1100.000  "
      ]
     },
     "metadata": {},
     "output_type": "display_data"
    }
   ],
   "source": [
    "#Run this Cell\n",
    "fish <- read.delim(\"https://raw.githubusercontent.com/difuse-dartmouth/ENGS93/main/fish.txt\", header = TRUE, sep = \"\\t\", dec = \".\")\n",
    "summary(fish)\n",
    "attach(fish)\n",
    "LN.DDT=log(DDT)\n",
    "ddt.lm=lm(LN.DDT~LENGTH)"
   ]
  },
  {
   "cell_type": "markdown",
   "metadata": {},
   "source": [
    "Residual Diagnostics: Before drawing any conclusions or making any inference or predictions based on your model, it is important to confirm that the assumptions of linear least-squares regression have been satisfied. You can extract the residuals from your model fit with the command ```residuals(ddt.lm)```, and the fitted values of y using the ``fitted(ddt.lm)`` command.\n",
    "\n",
    "### Question 1 part a)\n",
    "\n",
    "Put your model residuals in an object called ddt.res and your fitted values in an object called ``ddt.fit``. Plot the residuals vs. the fitted values. Do they appear to have mean of 0 and constant variance (i.e., do they appear as a flat, random band around 0)? Do they appear to be normally distributed? Plot a histogram of the residuals to check this latter assumption."
   ]
  },
  {
   "cell_type": "code",
   "execution_count": null,
   "metadata": {},
   "outputs": [],
   "source": []
  },
  {
   "cell_type": "markdown",
   "metadata": {},
   "source": []
  },
  {
   "cell_type": "markdown",
   "metadata": {},
   "source": [
    "---\n",
    "\n",
    "A full set of residual plots can be created in R using the function plot(ddt.lm). However, before using this function, type par(mfrow=c(2,2)). This will put all four produced plots in the same window. The plot command, as applied to a linear model object, produces the following plots:\n",
    "- **Residuals vs. fitted values**: An appropriate model should show no trend.\n",
    "- **Normal QQ plot**: The points should generally fall along the 1:1 line.\n",
    "- **Scale-Location plot**: This helps confirm the constant variance assumption. There should not be a tendency to have larger values at the left or right of the plot.\n",
    "- **Cook’s distance plot**: Cook's distance is a measure of the influence of a data point on regression results. Specifically, it measures the effect of deleting a given observation on the other fitted values. Data points with large residuals (i.e., outliers) and/or high leverage will have a high Cook’s distance. In the plot, Cook’s distance is indicated by red contour lines. Points with a Cook's distance of 1 or more are considered to merit closer examination.\n",
    "\n",
    "### Question 1 part b)\n",
    "\n",
    "Create a ``plot`` command on the`` ddt.lm`` object as above. Looking at the top two charts, what can you conclude about the residuals? Do you think any other transformations are necessary? Try models in which you keep the ln transform of ``DDT`` and transform the ``LENGTH`` variable by taking the square root, the square, and the cube. Do any of these lead to significantly better residual plots or $R^2$ values?"
   ]
  },
  {
   "cell_type": "code",
   "execution_count": null,
   "metadata": {},
   "outputs": [],
   "source": []
  },
  {
   "cell_type": "markdown",
   "metadata": {},
   "source": []
  },
  {
   "cell_type": "markdown",
   "metadata": {},
   "source": [
    "---\n",
    "\n",
    "Statistical Inference: Let us assume that the linear model of ``LN.DDT ~ LENGTH`` is appropriate for our data. We can now make statistical inference on the parameters (slope and intercept) of the model.\n",
    "We learned in lecture that the following statistics have t-distributions with n-2 degrees of freedom:\n",
    "\n",
    "$( (\\hat{\\beta}_{0}-\\beta_{0})/s_{\\hat{\\beta}_{0}} \\\\   (\\hat{\\beta}_{1}-\\beta_{1})/s_{\\hat{\\beta}_{1}} $\n",
    "\n",
    "The standard errors in the denominators are reported by R using the summary extractor function applied to an lm object. These can be used to perform significance tests. For our DDT model, we may be interested in testing the following hypotheses:\n",
    "\n",
    "$H_{0}: 𝛽_{1}= 0 \\\\    H_{1}: 𝛽_{1} ≠ 0$\n",
    "\n",
    "### Question 1 part c)\n",
    "Perform this hypothesis test on the slope and calculate the p-value. What do you conclude about the slope? Is the DDT concentration significantly related to fish length?"
   ]
  },
  {
   "cell_type": "code",
   "execution_count": null,
   "metadata": {},
   "outputs": [],
   "source": []
  },
  {
   "cell_type": "markdown",
   "metadata": {},
   "source": []
  },
  {
   "cell_type": "markdown",
   "metadata": {},
   "source": [
    "---\n",
    "As it turns out, R calculates the results of such a hypothesis test by default. The summary of an lm object reports the t value and the p-value for testing whether each coefficient is equal to zero. These are called marginal t-tests, because they test whether the parameter is necessary for the model. However, in some cases, you may be interested in testing against values other than zero (such as testing whether the slope equals 1.0). In such cases you can use the method of part c.\n",
    "\n",
    "onfidence intervals for the slope and intercept can also be derived using the t-scores. The formulas to do this are \n",
    "$ \\hat{\\beta}_{0} \\pm t_{n-2,\\alpha /2}s_{\\hat{\\beta_{0}}}$ and \n",
    "\n",
    "$ \\hat{\\beta}_{1} \\pm t_{n-2,\\alpha /2}s_{\\hat{\\beta_{1}}}$ respectively. \n",
    "\n",
    "Also, we can directly use the $\\hat{\\beta_{1}}$ and $s_{\\hat{\\beta_{1}}}$ provided by the ``summary(ddt.lm)`` function.\n",
    "\n",
    "### Question 1 part d)\n",
    "\n",
    "Calculate the 95% confidence interval for the intercept. Does this confidence interval include 0?\n"
   ]
  },
  {
   "cell_type": "code",
   "execution_count": null,
   "metadata": {},
   "outputs": [],
   "source": []
  },
  {
   "cell_type": "markdown",
   "metadata": {},
   "source": []
  }
 ],
 "metadata": {
  "kernelspec": {
   "display_name": "R",
   "language": "R",
   "name": "ir"
  },
  "language_info": {
   "codemirror_mode": "r",
   "file_extension": ".r",
   "mimetype": "text/x-r-source",
   "name": "R",
   "pygments_lexer": "r",
   "version": "4.0.3"
  },
  "toc": {
   "base_numbering": 1,
   "nav_menu": {},
   "number_sections": true,
   "sideBar": true,
   "skip_h1_title": false,
   "title_cell": "Table of Contents",
   "title_sidebar": "Contents",
   "toc_cell": false,
   "toc_position": {},
   "toc_section_display": true,
   "toc_window_display": false
  }
 },
 "nbformat": 4,
 "nbformat_minor": 4
}
