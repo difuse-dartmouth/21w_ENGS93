{
 "cells": [
  {
   "cell_type": "markdown",
   "metadata": {},
   "source": [
    "# ENGS93: Statistical Methods in Engineering:\n",
    "## Homework 3\n",
    "\n",
    "---\n",
    "\n",
    "**IMPORTANT:**\n",
    "Your answers in R should be put in the input box below the question. Make sure to *File->Save and Checkpoint* your notebook in order to save your code answers as you go. Once you are finished, save your R notebook and submit it to Canvas alongside a pdf of your written work. \n",
    "\n",
    "Note: Each sub-question is worth 5 points.\n",
    "\n",
    "---\n",
    "\n",
    "\n",
    "**QUESTION 1:** This problem continues the scenario from R Exercise #1. We have provided the code in the input box below. Please run this box so the variables are created. This means you can access them as you complete the HW questions. (Histograms not included) "
   ]
  },
  {
   "cell_type": "code",
   "execution_count": 2,
   "metadata": {},
   "outputs": [
    {
     "data": {
      "text/plain": [
       "     Name               Depth           Velocity     \n",
       " Length:275         Min.   :0.0300   Min.   :0.2249  \n",
       " Class :character   1st Qu.:0.2550   1st Qu.:1.1493  \n",
       " Mode  :character   Median :0.3700   Median :1.6320  \n",
       "                    Mean   :0.3586   Mean   :1.5893  \n",
       "                    3rd Qu.:0.4500   3rd Qu.:2.0089  \n",
       "                    Max.   :0.7200   Max.   :3.3914  "
      ]
     },
     "metadata": {},
     "output_type": "display_data"
    },
    {
     "name": "stderr",
     "output_type": "stream",
     "text": [
      "The following objects are masked from opihi (pos = 3):\n",
      "\n",
      "    Depth, Name, Velocity\n",
      "\n",
      "\n"
     ]
    }
   ],
   "source": [
    "#RX 1 Full Code solutions\n",
    "#RUN THIS CELL\n",
    "opihi <- read.delim(\"https://raw.githubusercontent.com/sarahkorb/difuse_test/main/Opihi_rx1.txt\", header = TRUE, sep = \"\\t\", dec = \".\")\n",
    "summary(opihi)\n",
    "attach(opihi)\n",
    "\n",
    "#The following variables will be necessary for the HW portion of this Notebook. \n",
    "#If you would like to adjust them to your liking (perhaps to match your own from the RX1_A, do so here.\n",
    "xbar.v=mean(Velocity)\n",
    "xbar.d=mean(Depth)\n",
    "s.v=sd(Velocity)\n",
    "s.d=sd(Depth)\n",
    "\n",
    "x.v=seq(from=0, to=4, by=0.01)\n",
    "y.v=dnorm(x.v, mean=xbar.v, sd=s.v)\n",
    "\n",
    "x.d=seq(from=0, to=0.8, by=0.01)\n",
    "y.d=dnorm(x.d, mean=xbar.d, sd=s.d)\n"
   ]
  },
  {
   "cell_type": "markdown",
   "metadata": {},
   "source": [
    "----\n",
    "\n",
    "Pools in streams are important habitat shelters for some riverine fauna. “Pools” are defined as locations with relatively low velocity and high depth. If we assume that the distributions of Velocity and Depth are independent, what proportion of the Opihi consists of pools? This can be calculated using the function pnorm( ), which calculates cumulative probabilities from the Normal distribution. We can assume that velocities less than 1.5 m/s can be considered low and depths greater than 0.4 m can be considered high.\n",
    "\n",
    "### Question 1 part a) \n",
    "From the normal distribution, calculate and report the cumulative probability that the velocity is less than 1.5 m/s and store the value in a new variable named “low.v”. You will need to use the \n",
    "```\n",
    "pnorm(v1, mean=v2, sd=v3) \n",
    "```\n",
    "function whose syntax is the same as dnorm. Use help to find more about the pnorm function. Similarly, calculate and report the cumulative probability that the depth is greater than 0.4 m, also assuming the normal distribution, using function pnorm again. Store the value in a new variable named “high.d”. This can be done by either subtracting pnorm from 1 (1- pnorm(v1, mean=v2, sd=v3)) or by using pnorm function with the additional parameter lower.tail = FALSE.\n",
    "\n"
   ]
  },
  {
   "cell_type": "code",
   "execution_count": 3,
   "metadata": {},
   "outputs": [
    {
     "data": {
      "text/html": [
       "4"
      ],
      "text/latex": [
       "4"
      ],
      "text/markdown": [
       "4"
      ],
      "text/plain": [
       "[1] 4"
      ]
     },
     "metadata": {},
     "output_type": "display_data"
    }
   ],
   "source": []
  },
  {
   "cell_type": "markdown",
   "metadata": {},
   "source": [
    "### Question 1 part b) \n",
    "\n",
    "We now want to know how these probabilities from the fitted Normal distribution compare to the actual proportions of the data points meeting these criteria. Calculate and report the empirical probabilities as \n",
    "```\n",
    "sum(Velocity<1.5)/length(Velocity)  \n",
    "sum(Depth>0.4)/length(Depth) \n",
    "```\n",
    "How do they compare? Now, calculate the joint probability describing the occurrence of pools (assuming independence of velocity and depth) can be calculated as the product of low.v, and high.d. Compare this value to the actual proportion of points from the data meeting these criteria calculated as \n",
    "```\n",
    "sum(Depth>0.4 & Velocity<1.5)/length(Depth) \n",
    "```\n",
    "Why are these values so different from each other?"
   ]
  },
  {
   "cell_type": "code",
   "execution_count": null,
   "metadata": {},
   "outputs": [],
   "source": []
  },
  {
   "cell_type": "markdown",
   "metadata": {},
   "source": []
  },
  {
   "cell_type": "markdown",
   "metadata": {},
   "source": [
    "----\n",
    "\n",
    "It turns out that, for clear physical reasons, velocity and depth are not independent variables in most streams. We’ll explore the bivariate distribution of the two.\n",
    "\n",
    "### Question 1 part c) \n",
    "Create a scatter plot of Velocity and Depth, with Depth on the horizontal axis and Velocity on the vertical axis. What do you see? Calculate the covariance between Velocity and Depth using the function cov(Velocity, Depth) and store it in a new variable named “cov.vd”. Calculate the correlation coefficient as \n",
    "\n",
    "```\n",
    "cov.vd/(s.v*s.d) \n",
    "```\n",
    "You can also use the cor( ) function as cor(Velocity, Depth). Is the value of the correlation coefficient consistent with what you see in your scatterplot?"
   ]
  },
  {
   "cell_type": "code",
   "execution_count": null,
   "metadata": {},
   "outputs": [],
   "source": [
    "\n"
   ]
  },
  {
   "cell_type": "markdown",
   "metadata": {},
   "source": []
  },
  {
   "cell_type": "markdown",
   "metadata": {},
   "source": [
    "----\n",
    "\n",
    "Next, we are going to overlay on our scatterplot a set of contour lines representing the bivariate Normal distribution with means and covariance estimated from our data. This is a little more advanced, but hang in there!\n",
    "\n",
    "### Question 1 part d) \n",
    "\n",
    "First, we need to install a special library for handling multivariate distributions. To do this, run the command: install.packages(\"mvtnorm\")\n",
    "\n",
    "Then load the package using the library command. Once you have “installed” a package on your computer, you only have to “load” it in future R sessions. Next, create a vector of your data means xbar.v and xbar.d using the c(v1,v2) function and store it into a new variable named “m”.\n",
    "Create a matrix (called the covariance matrix) which includes the variances of the two variables on the diagonal and the covariances on the off-diagonal:\n",
    "```\n",
    "cov.mat=matrix(c(var(Velocity), cov.vd, cov.vd, var(Depth)), ncol=2)\n",
    "```\n",
    "Next, we will calculate the bivariate Normal density at all points on a grid of values x.v and x.d that you specified earlier. First create the matrix z, filled with NAs:\n",
    "```\n",
    "z=matrix(NA, nrow=length(x.v), ncol=length(x.d))\n",
    "```\n",
    "Then run a for( ) loop to calculate the bivariate density on all points of the grid using the function dmvnorm( ). You will have to type all the lines in your script window, select them all, and run the entire selection. It will take a few seconds to calculate the (400 x 80) necessary values.\n",
    "```\n",
    "for (i in 1:length(x.v)){ \n",
    "    for (j in 1:length(x.d)){\n",
    "        z[i,j]=dmvnorm(c(x.v[i], x.d[j]), mean=m, sigma=cov.mat)\n",
    "    } \n",
    "}\n",
    "```\n",
    "Plot your data again (Depth on the y-axis and Velocity on the x-axis). Overlay the contour lines using the function contour( ) :\n",
    "```\n",
    "contour(x=x.v, y=x.d, z=z, nlevels=10, add=TRUE)\n",
    "```\n"
   ]
  },
  {
   "cell_type": "code",
   "execution_count": null,
   "metadata": {},
   "outputs": [],
   "source": []
  },
  {
   "cell_type": "markdown",
   "metadata": {},
   "source": [
    "### Question 1 part e) \n",
    "\n",
    "It should now be clear why your data-based estimates of the frequency of pools differed so much from your estimate based on independent normal distributions. The joint distribution of Velocity and Depth clearly shows that the two are not independent. You can calculate the volume under the Normal density surface bounded on the lower end by \n",
    "```\n",
    "(Velocity=-inf, Depth=0.4 m) \n",
    "```\n",
    "and on the upper end by \n",
    "```\n",
    "(Velocity=1.5 m/s, Depth=inf) \n",
    "```\n",
    "using the command \n",
    "```\n",
    "pmvnorm(lower=c(-Inf, 0.4), upper=c(1.5, Inf), mean=m, sigma=cov.mat). \n",
    "```\n",
    "\n",
    "How does this compare with your data-based estimate? Why?  "
   ]
  },
  {
   "cell_type": "code",
   "execution_count": null,
   "metadata": {},
   "outputs": [],
   "source": []
  },
  {
   "cell_type": "markdown",
   "metadata": {},
   "source": []
  }
 ],
 "metadata": {
  "kernelspec": {
   "display_name": "R",
   "language": "R",
   "name": "ir"
  },
  "language_info": {
   "codemirror_mode": "r",
   "file_extension": ".r",
   "mimetype": "text/x-r-source",
   "name": "R",
   "pygments_lexer": "r",
   "version": "4.0.3"
  },
  "toc": {
   "base_numbering": 1,
   "nav_menu": {},
   "number_sections": true,
   "sideBar": true,
   "skip_h1_title": false,
   "title_cell": "Table of Contents",
   "title_sidebar": "Contents",
   "toc_cell": false,
   "toc_position": {},
   "toc_section_display": true,
   "toc_window_display": false
  }
 },
 "nbformat": 4,
 "nbformat_minor": 4
}
