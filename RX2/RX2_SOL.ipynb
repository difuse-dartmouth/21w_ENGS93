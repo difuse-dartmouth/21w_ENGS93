{
 "cells": [
  {
   "cell_type": "markdown",
   "metadata": {},
   "source": [
    "# ENGS93: Statistical Methods in Engineering:\n",
    "## <span class=\"mark\">HOMEWORK 4 <span class=\"mark\">SOLUTIONS</span></span>"
   ]
  },
  {
   "cell_type": "markdown",
   "metadata": {},
   "source": [
    "## QUESTION 1\n",
    "\n",
    "Load code from RX2:"
   ]
  },
  {
   "cell_type": "code",
   "execution_count": 14,
   "metadata": {},
   "outputs": [
    {
     "data": {
      "text/plain": [
       "  temperature         gender          hr       \n",
       " Min.   : 96.30   Min.   :1.0   Min.   :57.00  \n",
       " 1st Qu.: 97.80   1st Qu.:1.0   1st Qu.:69.00  \n",
       " Median : 98.30   Median :1.5   Median :74.00  \n",
       " Mean   : 98.25   Mean   :1.5   Mean   :73.76  \n",
       " 3rd Qu.: 98.70   3rd Qu.:2.0   3rd Qu.:79.00  \n",
       " Max.   :100.80   Max.   :2.0   Max.   :89.00  "
      ]
     },
     "metadata": {},
     "output_type": "display_data"
    },
    {
     "data": {
      "text/plain": [
       "      case          fat.Brozek       fat.Siri        density     \n",
       " Min.   :  1.00   Min.   : 0.00   Min.   : 0.00   Min.   :0.995  \n",
       " 1st Qu.: 63.75   1st Qu.:12.80   1st Qu.:12.47   1st Qu.:1.041  \n",
       " Median :126.50   Median :19.00   Median :19.20   Median :1.055  \n",
       " Mean   :126.50   Mean   :18.94   Mean   :19.15   Mean   :1.056  \n",
       " 3rd Qu.:189.25   3rd Qu.:24.60   3rd Qu.:25.30   3rd Qu.:1.070  \n",
       " Max.   :252.00   Max.   :45.10   Max.   :47.50   Max.   :1.109  \n",
       "      age            weight      unknown_measurement      BMI       \n",
       " Min.   :22.00   Min.   :118.5   Min.   :29.50       Min.   :18.10  \n",
       " 1st Qu.:35.75   1st Qu.:159.0   1st Qu.:68.25       1st Qu.:23.10  \n",
       " Median :43.00   Median :176.5   Median :70.00       Median :25.05  \n",
       " Mean   :44.88   Mean   :178.9   Mean   :70.15       Mean   :25.44  \n",
       " 3rd Qu.:54.00   3rd Qu.:197.0   3rd Qu.:72.25       3rd Qu.:27.32  \n",
       " Max.   :81.00   Max.   :363.1   Max.   :77.75       Max.   :48.90  \n",
       " fat.free.weight      neck           chest           abdomen      \n",
       " Min.   :105.9   Min.   :31.10   Min.   : 79.30   Min.   : 69.40  \n",
       " 1st Qu.:131.3   1st Qu.:36.40   1st Qu.: 94.35   1st Qu.: 84.58  \n",
       " Median :141.6   Median :38.00   Median : 99.65   Median : 90.95  \n",
       " Mean   :143.7   Mean   :37.99   Mean   :100.82   Mean   : 92.56  \n",
       " 3rd Qu.:153.9   3rd Qu.:39.42   3rd Qu.:105.38   3rd Qu.: 99.33  \n",
       " Max.   :240.5   Max.   :51.20   Max.   :136.20   Max.   :148.10  \n",
       "      hip            thigh            knee           ankle          biceps     \n",
       " Min.   : 85.0   Min.   :47.20   Min.   :33.00   Min.   :19.1   Min.   :24.80  \n",
       " 1st Qu.: 95.5   1st Qu.:56.00   1st Qu.:36.98   1st Qu.:22.0   1st Qu.:30.20  \n",
       " Median : 99.3   Median :59.00   Median :38.50   Median :22.8   Median :32.05  \n",
       " Mean   : 99.9   Mean   :59.41   Mean   :38.59   Mean   :23.1   Mean   :32.27  \n",
       " 3rd Qu.:103.5   3rd Qu.:62.35   3rd Qu.:39.92   3rd Qu.:24.0   3rd Qu.:34.33  \n",
       " Max.   :147.7   Max.   :87.30   Max.   :49.10   Max.   :33.9   Max.   :45.00  \n",
       "    forearm          wrist      \n",
       " Min.   :21.00   Min.   :15.80  \n",
       " 1st Qu.:27.30   1st Qu.:17.60  \n",
       " Median :28.70   Median :18.30  \n",
       " Mean   :28.66   Mean   :18.23  \n",
       " 3rd Qu.:30.00   3rd Qu.:18.80  \n",
       " Max.   :34.90   Max.   :21.40  "
      ]
     },
     "metadata": {},
     "output_type": "display_data"
    },
    {
     "name": "stderr",
     "output_type": "stream",
     "text": [
      "The following objects are masked from normtemp (pos = 4):\n",
      "\n",
      "    gender, hr, temperature\n",
      "\n",
      "\n",
      "The following objects are masked from normtemp (pos = 6):\n",
      "\n",
      "    gender, hr, temperature\n",
      "\n",
      "\n",
      "The following objects are masked from fat (pos = 4):\n",
      "\n",
      "    abdomen, age, ankle, biceps, BMI, case, chest, density, fat.Brozek,\n",
      "    fat.free.weight, fat.Siri, forearm, hip, knee, neck, thigh,\n",
      "    unknown_measurement, weight, wrist\n",
      "\n",
      "\n",
      "The following objects are masked from fat (pos = 6):\n",
      "\n",
      "    abdomen, age, ankle, biceps, BMI, case, chest, density, fat.Brozek,\n",
      "    fat.free.weight, fat.Siri, forearm, hip, knee, neck, thigh,\n",
      "    unknown_measurement, weight, wrist\n",
      "\n",
      "\n"
     ]
    }
   ],
   "source": [
    "normtemp <- read.delim(\"https://raw.githubusercontent.com/difuse-dartmouth/ENGS93/main/normtemp.txt\", header = TRUE, sep = \"\\t\", dec = \".\")\n",
    "fat <- read.delim(\"https://raw.githubusercontent.com/difuse-dartmouth/ENGS93/main/fat.txt\", header = TRUE, sep = \"\\t\", dec = \".\")\n",
    "summary(normtemp)\n",
    "summary(fat)\n",
    "attach(normtemp)\n",
    "attach(fat)"
   ]
  },
  {
   "cell_type": "markdown",
   "metadata": {},
   "source": [
    "# a)"
   ]
  },
  {
   "cell_type": "code",
   "execution_count": 15,
   "metadata": {},
   "outputs": [],
   "source": [
    "mu.temp=98.2\n",
    "xbar.temp=mean(temperature)\n",
    "s.temp=sd(temperature)\n",
    "z.temp=(xbar.temp-mu.temp)/(s.temp/sqrt(length(temperature)))\n",
    "pval=pnorm(-z.temp)*2 #pval=0.4439208\n",
    "#Or we can use the following command:t.test(temperature, mu =98.2, alt =\"two.sided\")\n"
   ]
  },
  {
   "cell_type": "markdown",
   "metadata": {},
   "source": [
    "We get p-value =0.4453. As before 0.4453>0.4439208 because of fatter tail.\n",
    "In either case, the difference is not statistically significant at alpha=0.05 level."
   ]
  },
  {
   "cell_type": "markdown",
   "metadata": {},
   "source": [
    "# b) "
   ]
  },
  {
   "cell_type": "code",
   "execution_count": 16,
   "metadata": {},
   "outputs": [
    {
     "data": {
      "text/html": [
       "0.0222873607606576"
      ],
      "text/latex": [
       "0.0222873607606576"
      ],
      "text/markdown": [
       "0.0222873607606576"
      ],
      "text/plain": [
       "[1] 0.02228736"
      ]
     },
     "metadata": {},
     "output_type": "display_data"
    }
   ],
   "source": [
    "females =temperature[gender ==1]\n",
    "males =temperature[gender ==2]\n",
    "#H0: mu_f=mu_m\n",
    "#H1: mu_f\\=mu_md\n",
    "delta.gender=0\n",
    "xbar.females=mean(females)\n",
    "xbar.males=mean(males)\n",
    "s.females=sd(females)\n",
    "s.males=sd(males)\n",
    "z.gender=(xbar.females-xbar.males-delta.gender)/sqrt(((s.females^2)/length(females))+((s.males^2)/length(males)))\n",
    "pval=pnorm(z.gender)*2 #pval=0.02228736\n",
    "\n",
    "#output:\n",
    "pval"
   ]
  },
  {
   "cell_type": "markdown",
   "metadata": {},
   "source": [
    "Since the p value is smaller than 0.05 we conclude that we reject the null hypothesis that the body temperatures of males and females are the same."
   ]
  },
  {
   "cell_type": "markdown",
   "metadata": {},
   "source": [
    "# c)"
   ]
  },
  {
   "cell_type": "markdown",
   "metadata": {},
   "source": [
    "i)"
   ]
  },
  {
   "cell_type": "markdown",
   "metadata": {},
   "source": [
    "Null hypothesis (H0): mu_BMI <= 25\n",
    "Alternate hypothesis (H1): mu_BMI > 25"
   ]
  },
  {
   "cell_type": "markdown",
   "metadata": {},
   "source": [
    "ii)"
   ]
  },
  {
   "cell_type": "code",
   "execution_count": 17,
   "metadata": {},
   "outputs": [
    {
     "data": {
      "text/plain": [
       "\n",
       "\tOne Sample t-test\n",
       "\n",
       "data:  BMI\n",
       "t = 1.9012, df = 251, p-value = 0.02921\n",
       "alternative hypothesis: true mean is greater than 25\n",
       "95 percent confidence interval:\n",
       " 25.0575     Inf\n",
       "sample estimates:\n",
       "mean of x \n",
       "  25.4369 \n"
      ]
     },
     "metadata": {},
     "output_type": "display_data"
    }
   ],
   "source": [
    "mu.BMI=25\n",
    "xbar.BMI=mean(BMI)\n",
    "s.BMI=sd(BMI)\n",
    "z.BMI=(xbar.BMI-mu.BMI)/(s.BMI/sqrt(length(BMI)))\n",
    "pval=pnorm(-z.BMI) #pval = 0.02864043\n",
    "#OR\n",
    "t.test(BMI, mu =25, alt =\"greater\")#=0.02921"
   ]
  },
  {
   "cell_type": "markdown",
   "metadata": {},
   "source": [
    "iii)"
   ]
  },
  {
   "cell_type": "markdown",
   "metadata": {},
   "source": [
    "The two methods give slightly different p values and the first one is smaller than the second one as expected.\n",
    "Either way, we find that we reject the null hypothesis that BMI <= 25.So the difference is statistically significant at 5% level (or 10% level)."
   ]
  },
  {
   "cell_type": "markdown",
   "metadata": {},
   "source": [
    "# d)"
   ]
  },
  {
   "cell_type": "code",
   "execution_count": 18,
   "metadata": {},
   "outputs": [
    {
     "data": {
      "text/plain": [
       "\n",
       "\tWelch Two Sample t-test\n",
       "\n",
       "data:  males and females\n",
       "t = 2.2854, df = 127.51, p-value = 0.02394\n",
       "alternative hypothesis: true difference in means is not equal to 0\n",
       "95 percent confidence interval:\n",
       " 0.03881298 0.53964856\n",
       "sample estimates:\n",
       "mean of x mean of y \n",
       " 98.39385  98.10462 \n"
      ]
     },
     "metadata": {},
     "output_type": "display_data"
    },
    {
     "data": {
      "text/plain": [
       "\n",
       "\tWelch Two Sample t-test\n",
       "\n",
       "data:  males and females\n",
       "t = 2.2854, df = 127.51, p-value = 0.988\n",
       "alternative hypothesis: true difference in means is less than 0\n",
       "95 percent confidence interval:\n",
       "      -Inf 0.4989169\n",
       "sample estimates:\n",
       "mean of x mean of y \n",
       " 98.39385  98.10462 \n"
      ]
     },
     "metadata": {},
     "output_type": "display_data"
    },
    {
     "data": {
      "text/plain": [
       "\n",
       "\tWelch Two Sample t-test\n",
       "\n",
       "data:  males and females\n",
       "t = 2.2854, df = 127.51, p-value = 0.01197\n",
       "alternative hypothesis: true difference in means is greater than 0\n",
       "95 percent confidence interval:\n",
       " 0.07954459        Inf\n",
       "sample estimates:\n",
       "mean of x mean of y \n",
       " 98.39385  98.10462 \n"
      ]
     },
     "metadata": {},
     "output_type": "display_data"
    },
    {
     "data": {
      "text/plain": [
       "\n",
       "\tWelch Two Sample t-test\n",
       "\n",
       "data:  females and males\n",
       "t = -2.2854, df = 127.51, p-value = 0.02394\n",
       "alternative hypothesis: true difference in means is not equal to 0\n",
       "95 percent confidence interval:\n",
       " -0.53964856 -0.03881298\n",
       "sample estimates:\n",
       "mean of x mean of y \n",
       " 98.10462  98.39385 \n"
      ]
     },
     "metadata": {},
     "output_type": "display_data"
    }
   ],
   "source": [
    "t.test(males, females, alt=\"two.sided\")\n",
    "t.test(males, females, alt=\"less\")\n",
    "t.test(males, females, alt=\"greater\")\n",
    "t.test(females, males, alt=\"two.sided\")\n"
   ]
  },
  {
   "cell_type": "markdown",
   "metadata": {},
   "source": [
    "Analysis:\n",
    "\n",
    "alt=”two.sided”:We get a p value of 0.02394, which is close to what we got earlier in question 6 (0.02228736). First one is smaller as expected.\n",
    "\n",
    "alt=\"less\": We get a p value of 0.988 which is approximately equal to 1-previous value/2=1-0.02394/2=0.98803\n",
    "\n",
    "alt=\"greater\": We get a p value of 0.01197 which is 1-what we got for less.\n",
    "\n",
    "reverse order: Upon reversing the order of the variables male and female, we get the same p value but the t value is negative of what we had before.#All of these should make sense to you knowing once you think of a normal distribution pdf and the various probabilities associated with different areas under it.\n"
   ]
  }
 ],
 "metadata": {
  "kernelspec": {
   "display_name": "R",
   "language": "R",
   "name": "ir"
  },
  "language_info": {
   "codemirror_mode": "r",
   "file_extension": ".r",
   "mimetype": "text/x-r-source",
   "name": "R",
   "pygments_lexer": "r",
   "version": "4.0.3"
  },
  "toc": {
   "base_numbering": 1,
   "nav_menu": {},
   "number_sections": true,
   "sideBar": true,
   "skip_h1_title": false,
   "title_cell": "Table of Contents",
   "title_sidebar": "Contents",
   "toc_cell": false,
   "toc_position": {},
   "toc_section_display": true,
   "toc_window_display": false
  }
 },
 "nbformat": 4,
 "nbformat_minor": 5
}
