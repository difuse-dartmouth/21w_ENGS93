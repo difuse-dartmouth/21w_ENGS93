{
 "cells": [
  {
   "cell_type": "markdown",
   "metadata": {},
   "source": [
    "# ENGS93: Statistical Methods in Engineering:\n",
    "## Homework 4\n",
    "\n",
    "---\n",
    "\n",
    "**IMPORTANT:**\n",
    "Your answers in R should be put in the input box below the question. Make sure to *File->Save and Checkpoint* your notebook in order to save your code answers as you go. Once you are finished, save your R notebook and submit it to Canvas alongside a pdf of your written work. \n",
    "\n",
    "Note: Each sub-question is worth 5 points.\n",
    "\n",
    "---\n",
    "\n",
    "\n",
    "**QUESTION 1:** This problem continues the scenario from R Exercise #2. We have provided the code in the input box below. Please run this box so the variables are created. This means you can access them as you complete the HW questions. "
   ]
  },
  {
   "cell_type": "code",
   "execution_count": 1,
   "metadata": {},
   "outputs": [
    {
     "data": {
      "text/plain": [
       "  temperature         gender          hr       \n",
       " Min.   : 96.30   Min.   :1.0   Min.   :57.00  \n",
       " 1st Qu.: 97.80   1st Qu.:1.0   1st Qu.:69.00  \n",
       " Median : 98.30   Median :1.5   Median :74.00  \n",
       " Mean   : 98.25   Mean   :1.5   Mean   :73.76  \n",
       " 3rd Qu.: 98.70   3rd Qu.:2.0   3rd Qu.:79.00  \n",
       " Max.   :100.80   Max.   :2.0   Max.   :89.00  "
      ]
     },
     "metadata": {},
     "output_type": "display_data"
    },
    {
     "data": {
      "text/plain": [
       "      case          fat.Brozek       fat.Siri        density     \n",
       " Min.   :  1.00   Min.   : 0.00   Min.   : 0.00   Min.   :0.995  \n",
       " 1st Qu.: 63.75   1st Qu.:12.80   1st Qu.:12.47   1st Qu.:1.041  \n",
       " Median :126.50   Median :19.00   Median :19.20   Median :1.055  \n",
       " Mean   :126.50   Mean   :18.94   Mean   :19.15   Mean   :1.056  \n",
       " 3rd Qu.:189.25   3rd Qu.:24.60   3rd Qu.:25.30   3rd Qu.:1.070  \n",
       " Max.   :252.00   Max.   :45.10   Max.   :47.50   Max.   :1.109  \n",
       "      age            weight      unknown_measurement      BMI       \n",
       " Min.   :22.00   Min.   :118.5   Min.   :29.50       Min.   :18.10  \n",
       " 1st Qu.:35.75   1st Qu.:159.0   1st Qu.:68.25       1st Qu.:23.10  \n",
       " Median :43.00   Median :176.5   Median :70.00       Median :25.05  \n",
       " Mean   :44.88   Mean   :178.9   Mean   :70.15       Mean   :25.44  \n",
       " 3rd Qu.:54.00   3rd Qu.:197.0   3rd Qu.:72.25       3rd Qu.:27.32  \n",
       " Max.   :81.00   Max.   :363.1   Max.   :77.75       Max.   :48.90  \n",
       " fat.free.weight      neck           chest           abdomen      \n",
       " Min.   :105.9   Min.   :31.10   Min.   : 79.30   Min.   : 69.40  \n",
       " 1st Qu.:131.3   1st Qu.:36.40   1st Qu.: 94.35   1st Qu.: 84.58  \n",
       " Median :141.6   Median :38.00   Median : 99.65   Median : 90.95  \n",
       " Mean   :143.7   Mean   :37.99   Mean   :100.82   Mean   : 92.56  \n",
       " 3rd Qu.:153.9   3rd Qu.:39.42   3rd Qu.:105.38   3rd Qu.: 99.33  \n",
       " Max.   :240.5   Max.   :51.20   Max.   :136.20   Max.   :148.10  \n",
       "      hip            thigh            knee           ankle          biceps     \n",
       " Min.   : 85.0   Min.   :47.20   Min.   :33.00   Min.   :19.1   Min.   :24.80  \n",
       " 1st Qu.: 95.5   1st Qu.:56.00   1st Qu.:36.98   1st Qu.:22.0   1st Qu.:30.20  \n",
       " Median : 99.3   Median :59.00   Median :38.50   Median :22.8   Median :32.05  \n",
       " Mean   : 99.9   Mean   :59.41   Mean   :38.59   Mean   :23.1   Mean   :32.27  \n",
       " 3rd Qu.:103.5   3rd Qu.:62.35   3rd Qu.:39.92   3rd Qu.:24.0   3rd Qu.:34.33  \n",
       " Max.   :147.7   Max.   :87.30   Max.   :49.10   Max.   :33.9   Max.   :45.00  \n",
       "    forearm          wrist      \n",
       " Min.   :21.00   Min.   :15.80  \n",
       " 1st Qu.:27.30   1st Qu.:17.60  \n",
       " Median :28.70   Median :18.30  \n",
       " Mean   :28.66   Mean   :18.23  \n",
       " 3rd Qu.:30.00   3rd Qu.:18.80  \n",
       " Max.   :34.90   Max.   :21.40  "
      ]
     },
     "metadata": {},
     "output_type": "display_data"
    }
   ],
   "source": [
    "#RUN THIS CELL\n",
    "normtemp <- read.delim(\"https://raw.githubusercontent.com/difuse-dartmouth/ENGS93/main/normtemp.txt\", header = TRUE, sep = \"\\t\", dec = \".\")\n",
    "fat <- read.delim(\"https://raw.githubusercontent.com/difuse-dartmouth/ENGS93/main/fat.txt\", header = TRUE, sep = \"\\t\", dec = \".\")\n",
    "summary(normtemp)\n",
    "summary(fat)\n",
    "attach(normtemp)\n",
    "attach(fat)\n",
    "\n"
   ]
  },
  {
   "cell_type": "markdown",
   "metadata": {},
   "source": [
    " ## Question 1 part a)\n",
    "\n",
    "Some have suggested that 98.2°F is a better value for the mean body temperature. Perform a hypothesis test of HO: μ = 98.2, H1: μ ≠ 98.2. Is the difference statistically significant at the 𝛼\n",
    "= 0.05 level? What is the p-value? Find the answer to this question both with and without using\n",
    "the command ```t.test( . )``` and compare the two answers as before."
   ]
  },
  {
   "cell_type": "code",
   "execution_count": null,
   "metadata": {},
   "outputs": [],
   "source": []
  },
  {
   "attachments": {
    "snippsisan.JPG": {
     "image/jpeg": "[encoded data removed]"
    }
   },
   "cell_type": "markdown",
   "metadata": {},
   "source": [
    "## Question 1 part b)\n",
    "\n",
    "Do females have a different body temperature than males? We will answer this by using a\n",
    "hypothesis test on the difference between two means. Extract the temperatures for just the\n",
    "females and males in the study with the following commands: \n",
    "\n",
    ">```females = temperature[gender == 1]```\n",
    "\n",
    ">```males = temperature[gender == 2]```\n",
    "\n",
    "You can use the formula:![snippsisan.JPG](attachment:snippsisan.JPG). \n",
    "\n",
    "Clearly state and test the appropriate hypotheses\n",
    "using step-by-step R calculations. Clearly state your conclusion."
   ]
  },
  {
   "cell_type": "code",
   "execution_count": null,
   "metadata": {},
   "outputs": [],
   "source": []
  },
  {
   "cell_type": "markdown",
   "metadata": {},
   "source": [
    "## Question 1 part c)\n",
    "\n",
    "The body mass index, BMI, is a measurement of weight divided by height squared (both in\n",
    "metric units). “Normal” values are in the range [18.5, 25]. Perform a significance test to see\n",
    "whether the mean BMI is at most 25 versus an alternate that it is greater.\n"
   ]
  },
  {
   "cell_type": "code",
   "execution_count": null,
   "metadata": {},
   "outputs": [],
   "source": []
  },
  {
   "cell_type": "markdown",
   "metadata": {},
   "source": [
    ">i. First, write down the null and alternate hypotheses. (1 point)"
   ]
  },
  {
   "cell_type": "markdown",
   "metadata": {},
   "source": []
  },
  {
   "cell_type": "markdown",
   "metadata": {},
   "source": [
    ">ii. What is the p-value? (2 points)"
   ]
  },
  {
   "cell_type": "markdown",
   "metadata": {},
   "source": []
  },
  {
   "cell_type": "markdown",
   "metadata": {},
   "source": [
    "> iii. Is the difference statistically significant?"
   ]
  },
  {
   "cell_type": "markdown",
   "metadata": {},
   "source": []
  },
  {
   "cell_type": "markdown",
   "metadata": {},
   "source": [
    "## Question 1 part d)\n",
    "\n",
    "The comparison of body temperatures between males and females that you performed above can also be implemented directly using t.test( ) and specifying two variables males and females created above ```t.test(males, females, alt=\"two.sided\")```.\n",
    "\n",
    "Perform the hypothesis test  with the command above. How do the results  compare to your step-by-step  solution  above  in  part  b?  How  do  the  results  differ  if  you  use ```alt=\"less\"```? What about ```alt=\"greater\"```? What happens if you reverse the order of the variables male and female?"
   ]
  },
  {
   "cell_type": "markdown",
   "metadata": {},
   "source": []
  },
  {
   "cell_type": "markdown",
   "metadata": {},
   "source": [
    "Note that an alternative syntax (the model formula syntax) can be used for performing a two-sample test when there is one variable (gender) used to indicate a level of some factor for a subject. (These variables are referred to as indicator variables.) Thet-test above, may be carried out with the syntax: ```t.test(temperature ~ gender)```"
   ]
  },
  {
   "cell_type": "markdown",
   "metadata": {},
   "source": [
    "We will use this type of syntax in the future for regression analysis and ANOVA models. You can verify that using the model formula above gives the same output and also that the default value for ```alt=``` is ```\"two.sided\"```."
   ]
  },
  {
   "cell_type": "code",
   "execution_count": null,
   "metadata": {},
   "outputs": [],
   "source": []
  }
 ],
 "metadata": {
  "kernelspec": {
   "display_name": "R",
   "language": "R",
   "name": "ir"
  },
  "language_info": {
   "codemirror_mode": "r",
   "file_extension": ".r",
   "mimetype": "text/x-r-source",
   "name": "R",
   "pygments_lexer": "r",
   "version": "4.0.3"
  },
  "toc": {
   "base_numbering": 1,
   "nav_menu": {},
   "number_sections": true,
   "sideBar": true,
   "skip_h1_title": false,
   "title_cell": "Table of Contents",
   "title_sidebar": "Contents",
   "toc_cell": false,
   "toc_position": {},
   "toc_section_display": true,
   "toc_window_display": false
  }
 },
 "nbformat": 4,
 "nbformat_minor": 5
}
